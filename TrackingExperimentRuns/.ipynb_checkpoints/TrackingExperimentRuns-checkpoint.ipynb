{
 "cells": [
  {
   "cell_type": "code",
   "execution_count": 1,
   "id": "70b8ebb4",
   "metadata": {},
   "outputs": [
    {
     "name": "stderr",
     "output_type": "stream",
     "text": [
      "C:\\Users\\L14\\anaconda3\\lib\\site-packages\\pydantic\\_internal\\_fields.py:128: UserWarning: Field \"model_server_url\" has conflict with protected namespace \"model_\".\n",
      "\n",
      "You may be able to resolve this warning by setting `model_config['protected_namespaces'] = ()`.\n",
      "  warnings.warn(\n",
      "C:\\Users\\L14\\anaconda3\\lib\\site-packages\\pydantic\\_internal\\_config.py:317: UserWarning: Valid config keys have changed in V2:\n",
      "* 'schema_extra' has been renamed to 'json_schema_extra'\n",
      "  warnings.warn(message, UserWarning)\n"
     ]
    },
    {
     "data": {
      "text/plain": [
       "'2.8.1'"
      ]
     },
     "execution_count": 1,
     "metadata": {},
     "output_type": "execute_result"
    }
   ],
   "source": [
    "import mlflow\n",
    "\n",
    "mlflow.__version__"
   ]
  },
  {
   "cell_type": "code",
   "execution_count": 2,
   "id": "ad30b91a",
   "metadata": {},
   "outputs": [],
   "source": [
    "import pandas as pd\n",
    "import seaborn as sns\n",
    "import matplotlib.pyplot as plt"
   ]
  },
  {
   "cell_type": "markdown",
   "id": "458dc3d4",
   "metadata": {},
   "source": [
    "### TODO Recording\n",
    "\n",
    "- Open up https://openml.org/ and scroll and show the page\n",
    "(Open ML can help you train models and run pipelines but we will only use the dataset)\n",
    "- Search for housing and see that there are many datasets avaialable"
   ]
  },
  {
   "cell_type": "markdown",
   "id": "2fe025c2",
   "metadata": {},
   "source": [
    "### OpenML \n",
    "\n",
    "https://openml.org/\n",
    "\n",
    "https://scikit-learn.org/stable/datasets/loading_other_datasets.html#openml"
   ]
  },
  {
   "cell_type": "code",
   "execution_count": 3,
   "id": "c558f3a2",
   "metadata": {},
   "outputs": [
    {
     "data": {
      "text/html": [
       "<div>\n",
       "<style scoped>\n",
       "    .dataframe tbody tr th:only-of-type {\n",
       "        vertical-align: middle;\n",
       "    }\n",
       "\n",
       "    .dataframe tbody tr th {\n",
       "        vertical-align: top;\n",
       "    }\n",
       "\n",
       "    .dataframe thead th {\n",
       "        text-align: right;\n",
       "    }\n",
       "</style>\n",
       "<table border=\"1\" class=\"dataframe\">\n",
       "  <thead>\n",
       "    <tr style=\"text-align: right;\">\n",
       "      <th></th>\n",
       "      <th>date</th>\n",
       "      <th>price</th>\n",
       "      <th>bedrooms</th>\n",
       "      <th>bathrooms</th>\n",
       "      <th>sqft_living</th>\n",
       "      <th>sqft_lot</th>\n",
       "      <th>floors</th>\n",
       "      <th>waterfront</th>\n",
       "      <th>view</th>\n",
       "      <th>condition</th>\n",
       "      <th>grade</th>\n",
       "      <th>sqft_above</th>\n",
       "      <th>sqft_basement</th>\n",
       "      <th>yr_built</th>\n",
       "      <th>yr_renovated</th>\n",
       "      <th>zipcode</th>\n",
       "      <th>lat</th>\n",
       "      <th>long</th>\n",
       "      <th>sqft_living15</th>\n",
       "      <th>sqft_lot15</th>\n",
       "    </tr>\n",
       "  </thead>\n",
       "  <tbody>\n",
       "    <tr>\n",
       "      <th>0</th>\n",
       "      <td>20141013T000000</td>\n",
       "      <td>221900.0</td>\n",
       "      <td>3</td>\n",
       "      <td>1.00</td>\n",
       "      <td>1180</td>\n",
       "      <td>5650</td>\n",
       "      <td>1.0</td>\n",
       "      <td>0</td>\n",
       "      <td>0</td>\n",
       "      <td>3</td>\n",
       "      <td>7</td>\n",
       "      <td>1180</td>\n",
       "      <td>0</td>\n",
       "      <td>1955</td>\n",
       "      <td>0</td>\n",
       "      <td>98178</td>\n",
       "      <td>47.5112</td>\n",
       "      <td>-122.257</td>\n",
       "      <td>1340</td>\n",
       "      <td>5650</td>\n",
       "    </tr>\n",
       "    <tr>\n",
       "      <th>1</th>\n",
       "      <td>20141209T000000</td>\n",
       "      <td>538000.0</td>\n",
       "      <td>3</td>\n",
       "      <td>2.25</td>\n",
       "      <td>2570</td>\n",
       "      <td>7242</td>\n",
       "      <td>2.0</td>\n",
       "      <td>0</td>\n",
       "      <td>0</td>\n",
       "      <td>3</td>\n",
       "      <td>7</td>\n",
       "      <td>2170</td>\n",
       "      <td>400</td>\n",
       "      <td>1951</td>\n",
       "      <td>1991</td>\n",
       "      <td>98125</td>\n",
       "      <td>47.7210</td>\n",
       "      <td>-122.319</td>\n",
       "      <td>1690</td>\n",
       "      <td>7639</td>\n",
       "    </tr>\n",
       "    <tr>\n",
       "      <th>2</th>\n",
       "      <td>20150225T000000</td>\n",
       "      <td>180000.0</td>\n",
       "      <td>2</td>\n",
       "      <td>1.00</td>\n",
       "      <td>770</td>\n",
       "      <td>10000</td>\n",
       "      <td>1.0</td>\n",
       "      <td>0</td>\n",
       "      <td>0</td>\n",
       "      <td>3</td>\n",
       "      <td>6</td>\n",
       "      <td>770</td>\n",
       "      <td>0</td>\n",
       "      <td>1933</td>\n",
       "      <td>0</td>\n",
       "      <td>98028</td>\n",
       "      <td>47.7379</td>\n",
       "      <td>-122.233</td>\n",
       "      <td>2720</td>\n",
       "      <td>8062</td>\n",
       "    </tr>\n",
       "    <tr>\n",
       "      <th>3</th>\n",
       "      <td>20141209T000000</td>\n",
       "      <td>604000.0</td>\n",
       "      <td>4</td>\n",
       "      <td>3.00</td>\n",
       "      <td>1960</td>\n",
       "      <td>5000</td>\n",
       "      <td>1.0</td>\n",
       "      <td>0</td>\n",
       "      <td>0</td>\n",
       "      <td>5</td>\n",
       "      <td>7</td>\n",
       "      <td>1050</td>\n",
       "      <td>910</td>\n",
       "      <td>1965</td>\n",
       "      <td>0</td>\n",
       "      <td>98136</td>\n",
       "      <td>47.5208</td>\n",
       "      <td>-122.393</td>\n",
       "      <td>1360</td>\n",
       "      <td>5000</td>\n",
       "    </tr>\n",
       "    <tr>\n",
       "      <th>4</th>\n",
       "      <td>20150218T000000</td>\n",
       "      <td>510000.0</td>\n",
       "      <td>3</td>\n",
       "      <td>2.00</td>\n",
       "      <td>1680</td>\n",
       "      <td>8080</td>\n",
       "      <td>1.0</td>\n",
       "      <td>0</td>\n",
       "      <td>0</td>\n",
       "      <td>3</td>\n",
       "      <td>8</td>\n",
       "      <td>1680</td>\n",
       "      <td>0</td>\n",
       "      <td>1987</td>\n",
       "      <td>0</td>\n",
       "      <td>98074</td>\n",
       "      <td>47.6168</td>\n",
       "      <td>-122.045</td>\n",
       "      <td>1800</td>\n",
       "      <td>7503</td>\n",
       "    </tr>\n",
       "  </tbody>\n",
       "</table>\n",
       "</div>"
      ],
      "text/plain": [
       "              date     price  bedrooms  bathrooms  sqft_living  sqft_lot  \\\n",
       "0  20141013T000000  221900.0         3       1.00         1180      5650   \n",
       "1  20141209T000000  538000.0         3       2.25         2570      7242   \n",
       "2  20150225T000000  180000.0         2       1.00          770     10000   \n",
       "3  20141209T000000  604000.0         4       3.00         1960      5000   \n",
       "4  20150218T000000  510000.0         3       2.00         1680      8080   \n",
       "\n",
       "   floors  waterfront  view  condition  grade  sqft_above  sqft_basement  \\\n",
       "0     1.0           0     0          3      7        1180              0   \n",
       "1     2.0           0     0          3      7        2170            400   \n",
       "2     1.0           0     0          3      6         770              0   \n",
       "3     1.0           0     0          5      7        1050            910   \n",
       "4     1.0           0     0          3      8        1680              0   \n",
       "\n",
       "   yr_built  yr_renovated  zipcode      lat     long  sqft_living15  \\\n",
       "0      1955             0    98178  47.5112 -122.257           1340   \n",
       "1      1951          1991    98125  47.7210 -122.319           1690   \n",
       "2      1933             0    98028  47.7379 -122.233           2720   \n",
       "3      1965             0    98136  47.5208 -122.393           1360   \n",
       "4      1987             0    98074  47.6168 -122.045           1800   \n",
       "\n",
       "   sqft_lot15  \n",
       "0        5650  \n",
       "1        7639  \n",
       "2        8062  \n",
       "3        5000  \n",
       "4        7503  "
      ]
     },
     "execution_count": 3,
     "metadata": {},
     "output_type": "execute_result"
    }
   ],
   "source": [
    "from sklearn.datasets import fetch_openml\n",
    "\n",
    "house_price_df = fetch_openml(\n",
    "    'house_sales', version = 1, as_frame = True, \n",
    "    return_X_y = False, parser = 'auto'\n",
    ")\n",
    "\n",
    "house_price_df.data.head()"
   ]
  },
  {
   "cell_type": "code",
   "execution_count": 4,
   "id": "36f9eebf",
   "metadata": {},
   "outputs": [
    {
     "data": {
      "text/html": [
       "<div>\n",
       "<style scoped>\n",
       "    .dataframe tbody tr th:only-of-type {\n",
       "        vertical-align: middle;\n",
       "    }\n",
       "\n",
       "    .dataframe tbody tr th {\n",
       "        vertical-align: top;\n",
       "    }\n",
       "\n",
       "    .dataframe thead th {\n",
       "        text-align: right;\n",
       "    }\n",
       "</style>\n",
       "<table border=\"1\" class=\"dataframe\">\n",
       "  <thead>\n",
       "    <tr style=\"text-align: right;\">\n",
       "      <th></th>\n",
       "      <th>price</th>\n",
       "      <th>bedrooms</th>\n",
       "      <th>bathrooms</th>\n",
       "      <th>sqft_living</th>\n",
       "      <th>sqft_lot</th>\n",
       "      <th>floors</th>\n",
       "      <th>waterfront</th>\n",
       "      <th>view</th>\n",
       "      <th>condition</th>\n",
       "      <th>grade</th>\n",
       "      <th>sqft_above</th>\n",
       "      <th>sqft_basement</th>\n",
       "      <th>yr_built</th>\n",
       "      <th>yr_renovated</th>\n",
       "      <th>lat</th>\n",
       "      <th>long</th>\n",
       "      <th>sqft_living15</th>\n",
       "      <th>sqft_lot15</th>\n",
       "    </tr>\n",
       "  </thead>\n",
       "  <tbody>\n",
       "    <tr>\n",
       "      <th>15300</th>\n",
       "      <td>335000.0</td>\n",
       "      <td>3</td>\n",
       "      <td>2.50</td>\n",
       "      <td>1740</td>\n",
       "      <td>5267</td>\n",
       "      <td>2.0</td>\n",
       "      <td>0</td>\n",
       "      <td>0</td>\n",
       "      <td>3</td>\n",
       "      <td>7</td>\n",
       "      <td>1740</td>\n",
       "      <td>0</td>\n",
       "      <td>1999</td>\n",
       "      <td>0</td>\n",
       "      <td>47.3777</td>\n",
       "      <td>-122.023</td>\n",
       "      <td>2180</td>\n",
       "      <td>5000</td>\n",
       "    </tr>\n",
       "    <tr>\n",
       "      <th>6114</th>\n",
       "      <td>541125.0</td>\n",
       "      <td>5</td>\n",
       "      <td>2.75</td>\n",
       "      <td>2740</td>\n",
       "      <td>8426</td>\n",
       "      <td>1.0</td>\n",
       "      <td>0</td>\n",
       "      <td>0</td>\n",
       "      <td>4</td>\n",
       "      <td>8</td>\n",
       "      <td>1370</td>\n",
       "      <td>1370</td>\n",
       "      <td>1960</td>\n",
       "      <td>0</td>\n",
       "      <td>47.5563</td>\n",
       "      <td>-122.184</td>\n",
       "      <td>2020</td>\n",
       "      <td>8783</td>\n",
       "    </tr>\n",
       "    <tr>\n",
       "      <th>4961</th>\n",
       "      <td>525000.0</td>\n",
       "      <td>4</td>\n",
       "      <td>2.50</td>\n",
       "      <td>3070</td>\n",
       "      <td>7200</td>\n",
       "      <td>2.0</td>\n",
       "      <td>0</td>\n",
       "      <td>0</td>\n",
       "      <td>3</td>\n",
       "      <td>8</td>\n",
       "      <td>3070</td>\n",
       "      <td>0</td>\n",
       "      <td>2005</td>\n",
       "      <td>0</td>\n",
       "      <td>47.4899</td>\n",
       "      <td>-122.138</td>\n",
       "      <td>2590</td>\n",
       "      <td>7200</td>\n",
       "    </tr>\n",
       "    <tr>\n",
       "      <th>19511</th>\n",
       "      <td>487585.0</td>\n",
       "      <td>4</td>\n",
       "      <td>1.75</td>\n",
       "      <td>2010</td>\n",
       "      <td>9211</td>\n",
       "      <td>1.0</td>\n",
       "      <td>0</td>\n",
       "      <td>0</td>\n",
       "      <td>3</td>\n",
       "      <td>7</td>\n",
       "      <td>1470</td>\n",
       "      <td>540</td>\n",
       "      <td>1977</td>\n",
       "      <td>0</td>\n",
       "      <td>47.7206</td>\n",
       "      <td>-122.171</td>\n",
       "      <td>1840</td>\n",
       "      <td>8500</td>\n",
       "    </tr>\n",
       "    <tr>\n",
       "      <th>21519</th>\n",
       "      <td>420000.0</td>\n",
       "      <td>1</td>\n",
       "      <td>2.00</td>\n",
       "      <td>1070</td>\n",
       "      <td>675</td>\n",
       "      <td>2.0</td>\n",
       "      <td>0</td>\n",
       "      <td>0</td>\n",
       "      <td>3</td>\n",
       "      <td>8</td>\n",
       "      <td>880</td>\n",
       "      <td>190</td>\n",
       "      <td>2007</td>\n",
       "      <td>0</td>\n",
       "      <td>47.5574</td>\n",
       "      <td>-122.284</td>\n",
       "      <td>1220</td>\n",
       "      <td>788</td>\n",
       "    </tr>\n",
       "  </tbody>\n",
       "</table>\n",
       "</div>"
      ],
      "text/plain": [
       "          price  bedrooms  bathrooms  sqft_living  sqft_lot  floors  \\\n",
       "15300  335000.0         3       2.50         1740      5267     2.0   \n",
       "6114   541125.0         5       2.75         2740      8426     1.0   \n",
       "4961   525000.0         4       2.50         3070      7200     2.0   \n",
       "19511  487585.0         4       1.75         2010      9211     1.0   \n",
       "21519  420000.0         1       2.00         1070       675     2.0   \n",
       "\n",
       "       waterfront  view  condition  grade  sqft_above  sqft_basement  \\\n",
       "15300           0     0          3      7        1740              0   \n",
       "6114            0     0          4      8        1370           1370   \n",
       "4961            0     0          3      8        3070              0   \n",
       "19511           0     0          3      7        1470            540   \n",
       "21519           0     0          3      8         880            190   \n",
       "\n",
       "       yr_built  yr_renovated      lat     long  sqft_living15  sqft_lot15  \n",
       "15300      1999             0  47.3777 -122.023           2180        5000  \n",
       "6114       1960             0  47.5563 -122.184           2020        8783  \n",
       "4961       2005             0  47.4899 -122.138           2590        7200  \n",
       "19511      1977             0  47.7206 -122.171           1840        8500  \n",
       "21519      2007             0  47.5574 -122.284           1220         788  "
      ]
     },
     "execution_count": 4,
     "metadata": {},
     "output_type": "execute_result"
    }
   ],
   "source": [
    "house_price_df.data.drop(columns = ['date', 'zipcode'], inplace = True)\n",
    "\n",
    "house_price_df.data.sample(5)"
   ]
  },
  {
   "cell_type": "code",
   "execution_count": 5,
   "id": "8d340c2c",
   "metadata": {},
   "outputs": [
    {
     "data": {
      "text/plain": [
       "(21613, 18)"
      ]
     },
     "execution_count": 5,
     "metadata": {},
     "output_type": "execute_result"
    }
   ],
   "source": [
    "house_price_df.data.shape"
   ]
  },
  {
   "cell_type": "code",
   "execution_count": 6,
   "id": "8ffd9b89",
   "metadata": {},
   "outputs": [
    {
     "data": {
      "text/plain": [
       "(21608, 18)"
      ]
     },
     "execution_count": 6,
     "metadata": {},
     "output_type": "execute_result"
    }
   ],
   "source": [
    "house_price_df.data = house_price_df.data.drop_duplicates()\n",
    "\n",
    "house_price_df.data.shape"
   ]
  },
  {
   "cell_type": "code",
   "execution_count": 7,
   "id": "b0c8b2be",
   "metadata": {},
   "outputs": [
    {
     "data": {
      "text/html": [
       "<div>\n",
       "<style scoped>\n",
       "    .dataframe tbody tr th:only-of-type {\n",
       "        vertical-align: middle;\n",
       "    }\n",
       "\n",
       "    .dataframe tbody tr th {\n",
       "        vertical-align: top;\n",
       "    }\n",
       "\n",
       "    .dataframe thead th {\n",
       "        text-align: right;\n",
       "    }\n",
       "</style>\n",
       "<table border=\"1\" class=\"dataframe\">\n",
       "  <thead>\n",
       "    <tr style=\"text-align: right;\">\n",
       "      <th></th>\n",
       "      <th>price</th>\n",
       "      <th>bedrooms</th>\n",
       "      <th>bathrooms</th>\n",
       "      <th>sqft_living</th>\n",
       "      <th>sqft_lot</th>\n",
       "      <th>floors</th>\n",
       "      <th>waterfront</th>\n",
       "      <th>view</th>\n",
       "      <th>condition</th>\n",
       "      <th>grade</th>\n",
       "      <th>sqft_above</th>\n",
       "      <th>sqft_basement</th>\n",
       "      <th>yr_built</th>\n",
       "      <th>yr_renovated</th>\n",
       "      <th>lat</th>\n",
       "      <th>long</th>\n",
       "      <th>sqft_living15</th>\n",
       "      <th>sqft_lot15</th>\n",
       "      <th>age</th>\n",
       "      <th>renovation_age</th>\n",
       "    </tr>\n",
       "  </thead>\n",
       "  <tbody>\n",
       "    <tr>\n",
       "      <th>10011</th>\n",
       "      <td>530000.0</td>\n",
       "      <td>2</td>\n",
       "      <td>1.75</td>\n",
       "      <td>2120</td>\n",
       "      <td>7680</td>\n",
       "      <td>1.0</td>\n",
       "      <td>0</td>\n",
       "      <td>0</td>\n",
       "      <td>5</td>\n",
       "      <td>6</td>\n",
       "      <td>1130</td>\n",
       "      <td>990</td>\n",
       "      <td>1948</td>\n",
       "      <td>0</td>\n",
       "      <td>47.5304</td>\n",
       "      <td>-122.374</td>\n",
       "      <td>1220</td>\n",
       "      <td>7680</td>\n",
       "      <td>67</td>\n",
       "      <td>2015</td>\n",
       "    </tr>\n",
       "    <tr>\n",
       "      <th>16720</th>\n",
       "      <td>2140000.0</td>\n",
       "      <td>6</td>\n",
       "      <td>4.00</td>\n",
       "      <td>5110</td>\n",
       "      <td>7128</td>\n",
       "      <td>2.5</td>\n",
       "      <td>0</td>\n",
       "      <td>0</td>\n",
       "      <td>4</td>\n",
       "      <td>11</td>\n",
       "      <td>5110</td>\n",
       "      <td>0</td>\n",
       "      <td>1906</td>\n",
       "      <td>0</td>\n",
       "      <td>47.6285</td>\n",
       "      <td>-122.304</td>\n",
       "      <td>4110</td>\n",
       "      <td>6480</td>\n",
       "      <td>109</td>\n",
       "      <td>2015</td>\n",
       "    </tr>\n",
       "    <tr>\n",
       "      <th>5143</th>\n",
       "      <td>754300.0</td>\n",
       "      <td>5</td>\n",
       "      <td>2.75</td>\n",
       "      <td>1800</td>\n",
       "      <td>4500</td>\n",
       "      <td>2.0</td>\n",
       "      <td>0</td>\n",
       "      <td>0</td>\n",
       "      <td>4</td>\n",
       "      <td>7</td>\n",
       "      <td>1680</td>\n",
       "      <td>120</td>\n",
       "      <td>1939</td>\n",
       "      <td>0</td>\n",
       "      <td>47.6648</td>\n",
       "      <td>-122.358</td>\n",
       "      <td>1730</td>\n",
       "      <td>4500</td>\n",
       "      <td>76</td>\n",
       "      <td>2015</td>\n",
       "    </tr>\n",
       "    <tr>\n",
       "      <th>10485</th>\n",
       "      <td>325000.0</td>\n",
       "      <td>2</td>\n",
       "      <td>1.00</td>\n",
       "      <td>1070</td>\n",
       "      <td>8750</td>\n",
       "      <td>1.0</td>\n",
       "      <td>0</td>\n",
       "      <td>0</td>\n",
       "      <td>3</td>\n",
       "      <td>7</td>\n",
       "      <td>1070</td>\n",
       "      <td>0</td>\n",
       "      <td>1951</td>\n",
       "      <td>0</td>\n",
       "      <td>47.4734</td>\n",
       "      <td>-122.198</td>\n",
       "      <td>1300</td>\n",
       "      <td>9670</td>\n",
       "      <td>64</td>\n",
       "      <td>2015</td>\n",
       "    </tr>\n",
       "    <tr>\n",
       "      <th>14729</th>\n",
       "      <td>620000.0</td>\n",
       "      <td>3</td>\n",
       "      <td>2.50</td>\n",
       "      <td>2480</td>\n",
       "      <td>9041</td>\n",
       "      <td>2.0</td>\n",
       "      <td>0</td>\n",
       "      <td>0</td>\n",
       "      <td>3</td>\n",
       "      <td>7</td>\n",
       "      <td>2480</td>\n",
       "      <td>0</td>\n",
       "      <td>2004</td>\n",
       "      <td>0</td>\n",
       "      <td>47.6797</td>\n",
       "      <td>-122.035</td>\n",
       "      <td>2480</td>\n",
       "      <td>6500</td>\n",
       "      <td>11</td>\n",
       "      <td>2015</td>\n",
       "    </tr>\n",
       "  </tbody>\n",
       "</table>\n",
       "</div>"
      ],
      "text/plain": [
       "           price  bedrooms  bathrooms  sqft_living  sqft_lot  floors  \\\n",
       "10011   530000.0         2       1.75         2120      7680     1.0   \n",
       "16720  2140000.0         6       4.00         5110      7128     2.5   \n",
       "5143    754300.0         5       2.75         1800      4500     2.0   \n",
       "10485   325000.0         2       1.00         1070      8750     1.0   \n",
       "14729   620000.0         3       2.50         2480      9041     2.0   \n",
       "\n",
       "       waterfront  view  condition  grade  sqft_above  sqft_basement  \\\n",
       "10011           0     0          5      6        1130            990   \n",
       "16720           0     0          4     11        5110              0   \n",
       "5143            0     0          4      7        1680            120   \n",
       "10485           0     0          3      7        1070              0   \n",
       "14729           0     0          3      7        2480              0   \n",
       "\n",
       "       yr_built  yr_renovated      lat     long  sqft_living15  sqft_lot15  \\\n",
       "10011      1948             0  47.5304 -122.374           1220        7680   \n",
       "16720      1906             0  47.6285 -122.304           4110        6480   \n",
       "5143       1939             0  47.6648 -122.358           1730        4500   \n",
       "10485      1951             0  47.4734 -122.198           1300        9670   \n",
       "14729      2004             0  47.6797 -122.035           2480        6500   \n",
       "\n",
       "       age  renovation_age  \n",
       "10011   67            2015  \n",
       "16720  109            2015  \n",
       "5143    76            2015  \n",
       "10485   64            2015  \n",
       "14729   11            2015  "
      ]
     },
     "execution_count": 7,
     "metadata": {},
     "output_type": "execute_result"
    }
   ],
   "source": [
    "house_price_df.data['age'] = 2015 - house_price_df.data['yr_built']\n",
    "\n",
    "# Will be 2015 (a large number) for homes that have never been renovated\n",
    "house_price_df.data['renovation_age'] = 2015 - house_price_df.data['yr_renovated']\n",
    "\n",
    "house_price_df.data.sample(5)"
   ]
  },
  {
   "cell_type": "code",
   "execution_count": 8,
   "id": "30fd91d1",
   "metadata": {},
   "outputs": [
    {
     "data": {
      "image/png": "[encoded data removed]",
      "text/plain": [
       "<Figure size 800x600 with 1 Axes>"
      ]
     },
     "metadata": {},
     "output_type": "display_data"
    }
   ],
   "source": [
    "fig1, ax1 = plt.subplots(figsize = (8, 6))\n",
    "\n",
    "sns.histplot(x = 'price', data = house_price_df.data)\n",
    "plt.show()"
   ]
  },
  {
   "cell_type": "code",
   "execution_count": 9,
   "id": "d75f8b75",
   "metadata": {},
   "outputs": [
    {
     "data": {
      "image/png": "[encoded data removed]",
      "text/plain": [
       "<Figure size 800x600 with 1 Axes>"
      ]
     },
     "metadata": {},
     "output_type": "display_data"
    }
   ],
   "source": [
    "fig2, ax2 = plt.subplots(figsize = (8, 6))\n",
    "\n",
    "sns.boxplot(y = 'price', data = house_price_df.data)\n",
    "plt.show()"
   ]
  },
  {
   "cell_type": "code",
   "execution_count": 10,
   "id": "f353728d",
   "metadata": {},
   "outputs": [
    {
     "data": {
      "image/png": "[encoded data removed]",
      "text/plain": [
       "<Figure size 800x600 with 1 Axes>"
      ]
     },
     "metadata": {},
     "output_type": "display_data"
    }
   ],
   "source": [
    "fig3, ax3 = plt.subplots(figsize = (8, 6))\n",
    "\n",
    "sns.barplot(x = 'waterfront', y = 'price', data = house_price_df.data)\n",
    "plt.show()"
   ]
  },
  {
   "cell_type": "code",
   "execution_count": 11,
   "id": "aba8ed18",
   "metadata": {},
   "outputs": [
    {
     "data": {
      "image/png": "[encoded data removed]",
      "text/plain": [
       "<Figure size 800x600 with 1 Axes>"
      ]
     },
     "metadata": {},
     "output_type": "display_data"
    }
   ],
   "source": [
    "fig4, ax4 = plt.subplots(figsize = (8, 6))\n",
    "\n",
    "sns.regplot(data = house_price_df.data, x = 'sqft_living', y = 'price')\n",
    "plt.show()"
   ]
  },
  {
   "cell_type": "markdown",
   "id": "9805237d",
   "metadata": {},
   "source": [
    "#### Selecting a few features to keep heatmap easy to read"
   ]
  },
  {
   "cell_type": "code",
   "execution_count": 12,
   "id": "161bf79c",
   "metadata": {},
   "outputs": [
    {
     "data": {
      "image/png": "[encoded data removed]",
      "text/plain": [
       "<Figure size 1200x800 with 2 Axes>"
      ]
     },
     "metadata": {},
     "output_type": "display_data"
    }
   ],
   "source": [
    "selected_features = [\n",
    "    'price', 'bedrooms', 'bathrooms', 'sqft_living', 'sqft_lot', \n",
    "    'sqft_basement', 'yr_built','yr_renovated','sqft_above', 'age', 'renovation_age']\n",
    "\n",
    "cormap = house_price_df.data[selected_features].corr()\n",
    "\n",
    "fig5, ax5 = plt.subplots(figsize = (12, 8))\n",
    "\n",
    "sns.heatmap(cormap, annot = True)\n",
    "plt.show()"
   ]
  },
  {
   "cell_type": "markdown",
   "id": "f2610e5f",
   "metadata": {},
   "source": [
    "Summarisation of data can be done using Profiling"
   ]
  },
  {
   "cell_type": "code",
   "execution_count": null,
   "id": "89872154",
   "metadata": {},
   "outputs": [],
   "source": [
    "pip install pandas_profiling"
   ]
  },
  {
   "cell_type": "code",
   "execution_count": null,
   "id": "04a771ac",
   "metadata": {},
   "outputs": [],
   "source": [
    "pip install ipywidgets"
   ]
  },
  {
   "cell_type": "markdown",
   "id": "f2c2da43",
   "metadata": {},
   "source": [
    "### TODO Recording\n",
    "\n",
    "- Show the Overview\n",
    "- Scroll and show that we have details for every variable\n",
    "\n",
    "\n",
    "- Click on Alerts\n",
    "- Show the text for highly correlated variables\n",
    "- Scroll below\n",
    "- In the \"Selected Columns\" select \"price\"\n",
    "- Under Interactions - select \"price\" on the left and choose \"sqft_living\", \"grade\", and \"floors\" on the right\n",
    "\n",
    "\n",
    "- Keep scrolling and show \"Correlations\", \"Missing Values\" and \"Sample\"\n"
   ]
  },
  {
   "cell_type": "code",
   "execution_count": null,
   "id": "9298a7ed",
   "metadata": {},
   "outputs": [],
   "source": [
    "import ydata_profiling as pp\n",
    "\n",
    "profile = pp.ProfileReport(house_price_df.data)\n",
    "\n",
    "profile"
   ]
  },
  {
   "cell_type": "markdown",
   "id": "c43861cf",
   "metadata": {},
   "source": [
    "### TODO Recording\n",
    "\n",
    "- After saving the file - switch to Jupyter Home (http://localhost:8888)\n",
    "- Show the file has been saved\n",
    "- Click on the HTML file and show that you have the entire analysis of your data"
   ]
  },
  {
   "cell_type": "code",
   "execution_count": null,
   "id": "0d27dfb7",
   "metadata": {},
   "outputs": [],
   "source": [
    "profile.to_file(\"house_price_profile_report.html\")"
   ]
  },
  {
   "cell_type": "markdown",
   "id": "57d52e6f",
   "metadata": {},
   "source": [
    "### TODO Recording\n",
    "\n",
    "- Go to the MLflow UI\n",
    "- Show that it is still empty\n",
    "- Come back to the notebook"
   ]
  },
  {
   "cell_type": "markdown",
   "id": "4b573d60",
   "metadata": {},
   "source": [
    "### MLflow experiment and runs"
   ]
  },
  {
   "cell_type": "markdown",
   "id": "dc4b44de",
   "metadata": {},
   "source": [
    "Creating MLflow experiment"
   ]
  },
  {
   "cell_type": "code",
   "execution_count": 24,
   "id": "cf583db8",
   "metadata": {},
   "outputs": [],
   "source": [
    "experiment_id = mlflow.create_experiment(name = 'kc_house_price_prediction')"
   ]
  },
  {
   "cell_type": "markdown",
   "id": "d6f6e0d1",
   "metadata": {},
   "source": [
    "### TODO Recording\n",
    "\n",
    "- Go to the UI - show that a new experiment can be seen there\n",
    "- Go to the terminal window in the current working directory (where the notebook is present)\n",
    "- Run\n",
    "\n",
    "`ls -l`\n",
    "\n",
    "- Show that we have a new mlruns/ folder\n",
    "- Run\n",
    "\n",
    "`cd mlruns`\n",
    "\n",
    "`ls -l`\n",
    "\n",
    "- Show that there is a directory with the experiment ID"
   ]
  },
  {
   "cell_type": "markdown",
   "id": "891e28a9",
   "metadata": {},
   "source": [
    "We are removing 'sqft_above' as it is having very high corrrelation(0.88) with 'sqft_living'\n",
    "Remove bathrooms (highly correlated with bedrooms)\n",
    "Remove sqft_living15 (highly correlated with sqft_living)\n",
    "\n",
    "Can remove others if you want\n"
   ]
  },
  {
   "cell_type": "code",
   "execution_count": 19,
   "id": "7a426856",
   "metadata": {},
   "outputs": [],
   "source": [
    "house_price_df.data.drop(columns = [\n",
    "    'yr_built','yr_renovated','sqft_above', 'bathrooms', 'sqft_living15'], inplace = True)"
   ]
  },
  {
   "cell_type": "code",
   "execution_count": 20,
   "id": "3b541ae6",
   "metadata": {},
   "outputs": [
    {
     "data": {
      "text/plain": [
       "(21608, 15)"
      ]
     },
     "execution_count": 20,
     "metadata": {},
     "output_type": "execute_result"
    }
   ],
   "source": [
    "house_price_df.data.shape"
   ]
  },
  {
   "cell_type": "code",
   "execution_count": 21,
   "id": "8fbca7d9",
   "metadata": {},
   "outputs": [
    {
     "data": {
      "text/plain": [
       "Index(['price', 'bedrooms', 'sqft_living', 'sqft_lot', 'floors', 'waterfront',\n",
       "       'view', 'condition', 'grade', 'sqft_basement', 'lat', 'long',\n",
       "       'sqft_lot15', 'age', 'renovation_age'],\n",
       "      dtype='object')"
      ]
     },
     "execution_count": 21,
     "metadata": {},
     "output_type": "execute_result"
    }
   ],
   "source": [
    "house_price_df.data.columns"
   ]
  },
  {
   "cell_type": "markdown",
   "id": "6531045d",
   "metadata": {},
   "source": [
    "Creating a features.txt as artifact file"
   ]
  },
  {
   "cell_type": "code",
   "execution_count": 22,
   "id": "0031b108",
   "metadata": {},
   "outputs": [],
   "source": [
    "features = \"\"\"'bedrooms', 'sqft_living', 'sqft_lot', 'floors', \n",
    "              'waterfront', 'view', 'condition', 'grade', \n",
    "              'sqft_basement', 'lat', 'long', 'sqft_lot15', \n",
    "              'age', 'renovation_age'\"\"\"\n",
    "\n",
    "with open(\"features.txt\", \"w\") as f:\n",
    "    f.write(features)"
   ]
  },
  {
   "cell_type": "markdown",
   "id": "aae1944c",
   "metadata": {},
   "source": [
    "If you have checked the mlflow ui, There is one Default experiment with id=0. Get the details of this experiment"
   ]
  },
  {
   "cell_type": "code",
   "execution_count": 25,
   "id": "c2b5867f",
   "metadata": {},
   "outputs": [
    {
     "name": "stdout",
     "output_type": "stream",
     "text": [
      "Name: Default\n",
      "Artifact Location: file:///Users/vitthalsrinivasan/Desktop/iMovieLibrary/Skillsoft/MLOps/MLFlow/final_code/demo_01_TrackingExperimentRuns/mlruns/0\n",
      "Tags: {}\n",
      "Lifecycle_stage: active\n",
      "Creation timestamp: 1687239878218\n"
     ]
    }
   ],
   "source": [
    "experiment = mlflow.get_experiment(\"0\")\n",
    "\n",
    "print(\"Name: {}\".format(experiment.name))\n",
    "print(\"Artifact Location: {}\".format(experiment.artifact_location))\n",
    "print(\"Tags: {}\".format(experiment.tags))\n",
    "print(\"Lifecycle_stage: {}\".format(experiment.lifecycle_stage))\n",
    "print(\"Creation timestamp: {}\".format(experiment.creation_time))"
   ]
  },
  {
   "cell_type": "markdown",
   "id": "d010d708",
   "metadata": {},
   "source": [
    " Note that we can also create experiment through mlfow UI. Here ,We are creating a Mlflow experiment programmatically with name 'kc_house_price_prediction'."
   ]
  },
  {
   "cell_type": "markdown",
   "id": "aaf1cf50",
   "metadata": {},
   "source": [
    "Experiment can also be created by MlflowClientAPI"
   ]
  },
  {
   "cell_type": "code",
   "execution_count": 26,
   "id": "9aa32915",
   "metadata": {},
   "outputs": [],
   "source": [
    "# from mlflow import MlflowClient\n",
    "# client = MlflowClient()\n",
    "# client.create_experiment(name = 'kc_house_price_prediction')"
   ]
  },
  {
   "cell_type": "markdown",
   "id": "07dce973",
   "metadata": {},
   "source": [
    "As given in docs, we can obtain experiment related details"
   ]
  },
  {
   "cell_type": "code",
   "execution_count": 27,
   "id": "496b13e6",
   "metadata": {},
   "outputs": [
    {
     "name": "stdout",
     "output_type": "stream",
     "text": [
      "Name: kc_house_price_prediction\n",
      "Experiment_id: 130781408257073055\n",
      "Artifact Location: file:///Users/vitthalsrinivasan/Desktop/iMovieLibrary/Skillsoft/MLOps/MLFlow/final_code/demo_01_TrackingExperimentRuns/mlruns/130781408257073055\n",
      "Tags: {}\n",
      "Lifecycle_stage: active\n",
      "Creation timestamp: 1687240534045\n"
     ]
    }
   ],
   "source": [
    "experiment = mlflow.get_experiment(experiment_id)\n",
    "\n",
    "print(\"Name: {}\".format(experiment.name))\n",
    "print(\"Experiment_id: {}\".format(experiment.experiment_id))\n",
    "print(\"Artifact Location: {}\".format(experiment.artifact_location))\n",
    "print(\"Tags: {}\".format(experiment.tags))\n",
    "print(\"Lifecycle_stage: {}\".format(experiment.lifecycle_stage))\n",
    "print(\"Creation timestamp: {}\".format(experiment.creation_time))"
   ]
  },
  {
   "cell_type": "markdown",
   "id": "49c59c3f",
   "metadata": {},
   "source": [
    "mlflow.get_tracking_uri() returns the current tracking URI."
   ]
  },
  {
   "cell_type": "code",
   "execution_count": 28,
   "id": "6b135157",
   "metadata": {},
   "outputs": [
    {
     "data": {
      "text/plain": [
       "'file:///Users/vitthalsrinivasan/Desktop/iMovieLibrary/Skillsoft/MLOps/MLFlow/final_code/demo_01_TrackingExperimentRuns/mlruns'"
      ]
     },
     "execution_count": 28,
     "metadata": {},
     "output_type": "execute_result"
    }
   ],
   "source": [
    "mlflow.get_tracking_uri()"
   ]
  },
  {
   "cell_type": "markdown",
   "id": "a9252df0",
   "metadata": {},
   "source": [
    "mlflow.set_experiment() sets an experiment as active. If the experiment does not exist, creates a new experiment. If you do not specify an experiment in mlflow.start_run(), new runs are launched under this experiment."
   ]
  },
  {
   "cell_type": "code",
   "execution_count": 29,
   "id": "c8829b53",
   "metadata": {},
   "outputs": [
    {
     "data": {
      "text/plain": [
       "<Experiment: artifact_location='file:///Users/vitthalsrinivasan/Desktop/iMovieLibrary/Skillsoft/MLOps/MLFlow/final_code/demo_01_TrackingExperimentRuns/mlruns/130781408257073055', creation_time=1687240534045, experiment_id='130781408257073055', last_update_time=1687240534045, lifecycle_stage='active', name='kc_house_price_prediction', tags={}>"
      ]
     },
     "execution_count": 29,
     "metadata": {},
     "output_type": "execute_result"
    }
   ],
   "source": [
    "mlflow.set_experiment(experiment_name = 'kc_house_price_prediction')"
   ]
  },
  {
   "cell_type": "markdown",
   "id": "5124da9c",
   "metadata": {},
   "source": [
    "mlflow.start_run() returns the currently active run (if one exists), or starts a new run and returns a mlflow.\n",
    "\n",
    "ActiveRun object usable as a context manager for the current run. You do not need to call start_run explicitly: calling one of the logging functions with no active run automatically starts a new one.\n",
    "\n",
    "If the argument run_name is not set within mlflow.start_run(), a unique run name will be generated for each run."
   ]
  },
  {
   "cell_type": "code",
   "execution_count": 30,
   "id": "b73478e0",
   "metadata": {},
   "outputs": [],
   "source": [
    "mlflow.start_run()\n",
    " \n",
    "mlflow.log_figure(fig1, 'histogram_price.png')\n",
    "mlflow.log_figure(fig2, 'boxplot_price.png')"
   ]
  },
  {
   "cell_type": "markdown",
   "id": "25abb703",
   "metadata": {},
   "source": [
    "### TODO Recording\n",
    "\n",
    "- Go to the UI and click on the kc_house_price_prediction experiment\n",
    "- Note there is a new run\n",
    "- Click on the run and under artifacts you should see the two images that we have logged\n",
    "- Click on those images and show"
   ]
  },
  {
   "cell_type": "markdown",
   "id": "ff8e5617",
   "metadata": {},
   "source": [
    "If we try to start a new run without ending the previous run, Exception is raised."
   ]
  },
  {
   "cell_type": "code",
   "execution_count": 31,
   "id": "5a6e3add",
   "metadata": {},
   "outputs": [],
   "source": [
    "mlflow.end_run()"
   ]
  },
  {
   "cell_type": "markdown",
   "id": "af82e64a",
   "metadata": {},
   "source": [
    "Setting some reasonable name for run and logging additional figures"
   ]
  },
  {
   "cell_type": "code",
   "execution_count": 32,
   "id": "2f09f3ba",
   "metadata": {},
   "outputs": [],
   "source": [
    "mlflow.start_run(run_name = 'exploratory_data_analysis')\n",
    " \n",
    "mlflow.log_figure(fig1, 'histogram_price.png')\n",
    "mlflow.log_figure(fig2, 'boxplot_price.png')\n",
    "mlflow.log_figure(fig3, 'boxplot_waterfront_vs_price.png')\n",
    "mlflow.log_figure(fig4, 'regplot_sqft_living_vs_price.png') \n",
    "mlflow.log_figure(fig5, 'correlation_heatmap.png') \n",
    "\n",
    "mlflow.end_run()"
   ]
  },
  {
   "cell_type": "markdown",
   "id": "cfa0461a",
   "metadata": {},
   "source": [
    "### TODO Recording:\n",
    "\n",
    "- Go to the experiment, there should be a new run called \"exploratory_data_analysis\"\n",
    "- Show that these artifacts are logged under that run"
   ]
  },
  {
   "cell_type": "markdown",
   "id": "3917d52c",
   "metadata": {},
   "source": [
    "Loading feature names as artifact"
   ]
  },
  {
   "cell_type": "code",
   "execution_count": 33,
   "id": "24a34c31",
   "metadata": {},
   "outputs": [],
   "source": [
    "mlflow.start_run(run_name = 'features_as_artifacts')\n",
    "\n",
    "mlflow.log_artifact(\"features.txt\")"
   ]
  },
  {
   "cell_type": "markdown",
   "id": "b7ab4b57",
   "metadata": {},
   "source": [
    "Getting the active run id and also ending the active run"
   ]
  },
  {
   "cell_type": "code",
   "execution_count": 34,
   "id": "2d539f2f",
   "metadata": {},
   "outputs": [
    {
     "name": "stdout",
     "output_type": "stream",
     "text": [
      "Active run_id: 4ae512191c4f4b6f8dadc32bf2103bdd\n"
     ]
    }
   ],
   "source": [
    "run = mlflow.active_run()\n",
    " \n",
    "print('Active run_id: {}'.format(run.info.run_id))\n",
    " \n",
    "mlflow.end_run()"
   ]
  },
  {
   "cell_type": "markdown",
   "id": "7506e0c1",
   "metadata": {},
   "source": [
    "### TODO Recording:\n",
    "\n",
    "- Go to the UI\n",
    "- Show yet another run called \"features_as_artifacts\"\n",
    "- Click on the run and show the text file is logged as part of that run\n",
    "- Note the run ID"
   ]
  },
  {
   "cell_type": "markdown",
   "id": "1d9d0a70",
   "metadata": {},
   "source": [
    "The run remains open throughout the with statement, and is automatically closed when the statement exits, even if it exits due to an exception.\n"
   ]
  },
  {
   "cell_type": "code",
   "execution_count": 35,
   "id": "28a28e55",
   "metadata": {},
   "outputs": [],
   "source": [
    "with mlflow.start_run(run_name = 'eda_plots_and_features_as_artifacts') as current_run:\n",
    "\n",
    "    mlflow.log_figure(fig1, 'histogram_price.png')\n",
    "    mlflow.log_figure(fig2, 'boxplot_price.png')\n",
    "    mlflow.log_figure(fig3, 'boxplot_waterfront_vs_price.png')\n",
    "    mlflow.log_figure(fig4, 'regplot_sqft_living_vs_price.png') \n",
    "    mlflow.log_figure(fig5, 'correlation_heatmap.png') \n",
    "    \n",
    "    mlflow.log_artifact(\"features.txt\")"
   ]
  },
  {
   "cell_type": "raw",
   "id": "7c53eeaf",
   "metadata": {},
   "source": [
    "Last active run details can be obtained using both mlflow and clientAPI"
   ]
  },
  {
   "cell_type": "code",
   "execution_count": 36,
   "id": "e0d14151",
   "metadata": {},
   "outputs": [
    {
     "data": {
      "text/plain": [
       "<Run: data=<RunData: metrics={}, params={}, tags={'mlflow.runName': 'eda_plots_and_features_as_artifacts',\n",
       " 'mlflow.source.name': '/Users/vitthalsrinivasan/Desktop/iMovieLibrary/Skillsoft/MLOps/MLFlow/final_code/mlflow_venv/lib/python3.10/site-packages/ipykernel_launcher.py',\n",
       " 'mlflow.source.type': 'LOCAL',\n",
       " 'mlflow.user': 'vitthalsrinivasan'}>, info=<RunInfo: artifact_uri='file:///Users/vitthalsrinivasan/Desktop/iMovieLibrary/Skillsoft/MLOps/MLFlow/final_code/demo_01_TrackingExperimentRuns/mlruns/130781408257073055/1f68d4163e814a478314c22deb7cf70a/artifacts', end_time=1687241198077, experiment_id='130781408257073055', lifecycle_stage='active', run_id='1f68d4163e814a478314c22deb7cf70a', run_name='eda_plots_and_features_as_artifacts', run_uuid='1f68d4163e814a478314c22deb7cf70a', start_time=1687241197799, status='FINISHED', user_id='vitthalsrinivasan'>, inputs=<RunInputs: dataset_inputs=[]>>"
      ]
     },
     "execution_count": 36,
     "metadata": {},
     "output_type": "execute_result"
    }
   ],
   "source": [
    "mlflow.last_active_run()"
   ]
  },
  {
   "cell_type": "code",
   "execution_count": 38,
   "id": "bb651ff9",
   "metadata": {},
   "outputs": [
    {
     "data": {
      "text/plain": [
       "<RunData: metrics={}, params={}, tags={'mlflow.runName': 'eda_plots_and_features_as_artifacts',\n",
       " 'mlflow.source.name': '/Users/vitthalsrinivasan/Desktop/iMovieLibrary/Skillsoft/MLOps/MLFlow/final_code/mlflow_venv/lib/python3.10/site-packages/ipykernel_launcher.py',\n",
       " 'mlflow.source.type': 'LOCAL',\n",
       " 'mlflow.user': 'vitthalsrinivasan'}>"
      ]
     },
     "execution_count": 38,
     "metadata": {},
     "output_type": "execute_result"
    }
   ],
   "source": [
    "client = mlflow.MlflowClient()\n",
    "data = client.get_run(current_run.info.run_id).data\n",
    "\n",
    "data"
   ]
  },
  {
   "cell_type": "markdown",
   "id": "7ff6e328",
   "metadata": {},
   "source": [
    "### TODO Recording\n",
    "\n",
    "- Go to the UI\n",
    "- We now have 4 runs within the experiment\n",
    "- Click on the latest one \"eda_plots_and_features_as_artifacts\"\n",
    "- Show this has plots and the text file"
   ]
  },
  {
   "cell_type": "markdown",
   "id": "82047efc",
   "metadata": {},
   "source": [
    "List of experiments are obtained"
   ]
  },
  {
   "cell_type": "code",
   "execution_count": 39,
   "id": "ea8d16cf",
   "metadata": {},
   "outputs": [
    {
     "data": {
      "text/plain": [
       "[<Experiment: artifact_location='file:///Users/vitthalsrinivasan/Desktop/iMovieLibrary/Skillsoft/MLOps/MLFlow/final_code/demo_01_TrackingExperimentRuns/mlruns/130781408257073055', creation_time=1687240534045, experiment_id='130781408257073055', last_update_time=1687240534045, lifecycle_stage='active', name='kc_house_price_prediction', tags={}>,\n",
       " <Experiment: artifact_location='file:///Users/vitthalsrinivasan/Desktop/iMovieLibrary/Skillsoft/MLOps/MLFlow/final_code/demo_01_TrackingExperimentRuns/mlruns/0', creation_time=1687239878218, experiment_id='0', last_update_time=1687239878218, lifecycle_stage='active', name='Default', tags={}>]"
      ]
     },
     "execution_count": 39,
     "metadata": {},
     "output_type": "execute_result"
    }
   ],
   "source": [
    "experiments = mlflow.search_experiments()\n",
    "\n",
    "experiments "
   ]
  },
  {
   "cell_type": "markdown",
   "id": "8c3e7a15",
   "metadata": {},
   "source": [
    "### Logging metrics during model training and evaluation"
   ]
  },
  {
   "cell_type": "markdown",
   "id": "3dc1fb88",
   "metadata": {},
   "source": [
    "We can log each metric individually.After completion of 'Simple Linear Regression' run, we can see that only metrics are logged"
   ]
  },
  {
   "cell_type": "code",
   "execution_count": 41,
   "id": "159189af",
   "metadata": {},
   "outputs": [],
   "source": [
    "from sklearn.model_selection import train_test_split\n",
    "from sklearn.linear_model import LinearRegression\n",
    "from sklearn.metrics import mean_absolute_error, mean_squared_error, r2_score\n",
    "\n",
    "\n",
    "with mlflow.start_run(run_name = 'Simple Linear Regression') as lr_run:\n",
    "\n",
    "    X = house_price_df.data.drop(columns = ['price'])\n",
    "    y = house_price_df.data['price']\n",
    "    \n",
    "    X_sqft_living = X['sqft_living']\n",
    "    \n",
    "    X_train, X_test, y_train, y_test = train_test_split(\n",
    "        X_sqft_living , y, test_size = 0.3, random_state = 123)\n",
    "\n",
    "    lr_model = LinearRegression()\n",
    "    lr_model.fit(X_train.to_numpy().reshape(-1, 1), y_train)\n",
    "    \n",
    "    y_pred = lr_model.predict(X_test.to_numpy().reshape(-1, 1))\n",
    "    \n",
    "    # Training and test metrics\n",
    "    training_score = lr_model.score(X_train.to_numpy().reshape(-1, 1), y_train)\n",
    "    mean_abs_error = mean_absolute_error(y_test, y_pred)\n",
    "    root_mean_sq_error = mean_squared_error(y_test, y_pred, squared = False)\n",
    "    test_score = r2_score(y_test, y_pred)\n",
    "   \n",
    "    # Log model metrics\n",
    "    mlflow.log_metric('Train_R2_score', training_score)\n",
    "    mlflow.log_metric('Test_R2_score', test_score)\n",
    "    mlflow.log_metric('Test_MAE', mean_abs_error)\n",
    "    mlflow.log_metric('Test_RMSE', root_mean_sq_error)\n",
    "\n",
    "    mlflow.set_tag('Regressor', 'Simple Linear Regression Model')"
   ]
  },
  {
   "cell_type": "markdown",
   "id": "55121a61",
   "metadata": {},
   "source": [
    "### TODO Recording:\n",
    "\n",
    "- Go to the UI, new run called \"Simple Linear Regression\"\n",
    "- Click through and show that the run has metrics and a tag (no artifacts, nothing else)"
   ]
  },
  {
   "cell_type": "markdown",
   "id": "0fb2532b",
   "metadata": {},
   "source": [
    "We can also view Model parameters and metrics using client api"
   ]
  },
  {
   "cell_type": "code",
   "execution_count": 42,
   "id": "1825484f",
   "metadata": {},
   "outputs": [
    {
     "name": "stdout",
     "output_type": "stream",
     "text": [
      "Model Parameters {}\n",
      "Metrics {'Train_R2_score': 0.49166868058638125, 'Test_R2_score': 0.4950098469357982, 'Test_RMSE': 269918.61814241024, 'Test_MAE': 174998.84435471724}\n"
     ]
    }
   ],
   "source": [
    "client = mlflow.tracking.MlflowClient()\n",
    " \n",
    "print('Model Parameters', client.get_run(lr_run.info.run_id).data.params)\n",
    " \n",
    "print('Metrics', client.get_run(lr_run.info.run_id).data.metrics)"
   ]
  },
  {
   "cell_type": "markdown",
   "id": "16715f6f",
   "metadata": {},
   "source": [
    "We can also log parameters of model individually but we are logging both parameters and metrics together. We can also set tags "
   ]
  },
  {
   "cell_type": "code",
   "execution_count": 45,
   "id": "4d11c4fb",
   "metadata": {},
   "outputs": [
    {
     "name": "stdout",
     "output_type": "stream",
     "text": [
      "Model Parameters {'positive': 'False', 'copy_X': 'True', 'fit_intercept': 'True', 'n_jobs': 'None'}\n",
      "Metrics {'Train_R2_score': 0.7014489032098928, 'Test_R2_score': 0.6706317206942887, 'Test_RMSE': 217987.84220380947, 'Test_MAE': 129193.79215236727}\n"
     ]
    }
   ],
   "source": [
    "with mlflow.start_run(run_name = 'Multiple Linear Regression') as mlr_run:\n",
    "\n",
    "    # Log artifacts for EDA and features\n",
    "    mlflow.log_figure(fig5, 'correlation_heatmap.png') \n",
    "    mlflow.log_artifact(\"features.txt\")\n",
    "    \n",
    "    X = house_price_df.data.drop(columns = ['price'])\n",
    "    y = house_price_df.data['price']\n",
    "    \n",
    "    X_train, X_test, y_train, y_test = \\\n",
    "        train_test_split(X , y, test_size = 0.3, random_state = 123)\n",
    "    \n",
    "    lr_model = LinearRegression()\n",
    "    \n",
    "    lr_model.fit(X_train, y_train)\n",
    "    \n",
    "    y_pred = lr_model.predict(X_test)\n",
    "    \n",
    "    # Metrics\n",
    "    training_score = lr_model.score(X_train,y_train)\n",
    "    mean_abs_error = mean_absolute_error(y_test, y_pred)\n",
    "    root_mean_sq_error = mean_squared_error(y_test, y_pred, squared = False)\n",
    "    test_score = r2_score(y_test, y_pred)\n",
    "    \n",
    "    # Log params    \n",
    "    params_reg = lr_model.get_params()\n",
    "    mlflow.log_params(params_reg)\n",
    "    \n",
    "    # Log metrics as dictionary\n",
    "    metrics = {\n",
    "        'Train_R2_score': training_score, \n",
    "        'Test_R2_score': test_score,\n",
    "        'Test_MAE': mean_abs_error, \n",
    "        'Test_RMSE': root_mean_sq_error \n",
    "    }\n",
    "    mlflow.log_metrics(metrics)\n",
    "    \n",
    "    mlflow.set_tag('Regressor', 'Multiple Linear Regression Model')\n",
    "    \n",
    "    print('Model Parameters', client.get_run(mlr_run.info.run_id).data.params)\n",
    "    print('Metrics', client.get_run(mlr_run.info.run_id).data.metrics)"
   ]
  },
  {
   "cell_type": "markdown",
   "id": "4cf9b245",
   "metadata": {},
   "source": [
    "### TODO Recording:\n",
    "\n",
    "- Go to the UI and see the run \"Multiple Linear Regression Model\"\n",
    "- Click through and show that the run has logged artifacts, parameters, metrics, and tags"
   ]
  },
  {
   "cell_type": "markdown",
   "id": "c0e43022",
   "metadata": {},
   "source": [
    "Here we are applying polynomial regression model which includes interactions between features. Here we are logging only degree of polynomial as parameter"
   ]
  },
  {
   "cell_type": "code",
   "execution_count": 46,
   "id": "9a509cab",
   "metadata": {},
   "outputs": [
    {
     "name": "stdout",
     "output_type": "stream",
     "text": [
      "Model Parameters {'Degree of polynomial': '2'}\n",
      "Metrics {'Train_R2_score': 0.8053902037779248, 'Test_R2_score': 0.7761844602437731, 'Test_RMSE': 179695.21197049692, 'Test_MAE': 109155.83489548085}\n"
     ]
    }
   ],
   "source": [
    "from sklearn.preprocessing import PolynomialFeatures\n",
    "\n",
    "with mlflow.start_run(run_name = 'Polynomial Regression') as pr_run:\n",
    "    \n",
    "    degree = 2\n",
    "    \n",
    "    # Create polynomial features\n",
    "    poly = PolynomialFeatures(degree = degree)\n",
    "    \n",
    "    poly_features_train = poly.fit_transform(X_train)\n",
    "    poly_features_test = poly.transform(X_test)\n",
    "    \n",
    "    polylr_model = LinearRegression()\n",
    "    \n",
    "    polylr_model.fit(poly_features_train, y_train)\n",
    "    y_pred = polylr_model.predict(poly_features_test)\n",
    "    \n",
    "    # Metrics\n",
    "    training_score = polylr_model.score(poly_features_train,y_train)\n",
    "    mean_abs_error = mean_absolute_error(y_test, y_pred)\n",
    "    root_mean_sq_error = mean_squared_error(y_test, y_pred, squared = False)\n",
    "    test_score = r2_score(y_test, y_pred)\n",
    "    \n",
    "    # Log params\n",
    "    mlflow.log_param('Degree of polynomial', degree)\n",
    "    \n",
    "    # Log metrics\n",
    "    metrics = {\n",
    "        'Train_R2_score': training_score, \n",
    "        'Test_R2_score': test_score,\n",
    "        'Test_MAE': mean_abs_error, \n",
    "        'Test_RMSE': root_mean_sq_error \n",
    "    }\n",
    "    mlflow.log_metrics(metrics)\n",
    "\n",
    "    mlflow.set_tag('Regressor', 'Polynomial Regression Model with degree 2')\n",
    "    \n",
    "    print('Model Parameters', client.get_run(pr_run.info.run_id).data.params)\n",
    "    print('Metrics', client.get_run(pr_run.info.run_id).data.metrics)"
   ]
  },
  {
   "cell_type": "markdown",
   "id": "f6b0bae9",
   "metadata": {},
   "source": [
    "### TODO Recording:\n",
    "\n",
    "- Go to the UI\n",
    "- Click on the new polynomial regression run\n",
    "- Show everything that we have logged"
   ]
  },
  {
   "cell_type": "code",
   "execution_count": null,
   "id": "042d2775",
   "metadata": {},
   "outputs": [],
   "source": [
    "from sklearn.ensemble import RandomForestRegressor\n",
    "\n",
    "with mlflow.start_run(run_name = 'Random Forest Regression default params') as rf_run:\n",
    "   \n",
    "    rf_model = RandomForestRegressor()\n",
    "    \n",
    "    rf_model .fit(X_train, y_train)\n",
    "    y_pred = rf_model.predict(X_test)\n",
    "    \n",
    "    training_score = rf_model.score(X_train,y_train)\n",
    "    mean_abs_error = mean_absolute_error(y_test, y_pred)\n",
    "    root_mean_sq_error = mean_squared_error(y_test, y_pred, squared = False)\n",
    "    test_score = r2_score(y_test, y_pred)\n",
    "\n",
    "    # Log params\n",
    "    params_reg = rf_model.get_params()\n",
    "    mlflow.log_params(params_reg)\n",
    "\n",
    "    # Log metrics\n",
    "    metrics = {\n",
    "        'Train_R2_score': training_score, \n",
    "        'Test_R2_score': test_score,\n",
    "        'Test_MAE': mean_abs_error, \n",
    "        'Test_RMSE': root_mean_sq_error\n",
    "    }\n",
    "    mlflow.log_metrics(metrics)\n",
    "    \n",
    "    mlflow.set_tag('Regressor', 'RF default parameters')\n",
    "    \n",
    "    print('Model Parameters', client.get_run(rf_run.info.run_id).data.params)\n",
    "    print('Metrics', client.get_run(rf_run.info.run_id).data.metrics)"
   ]
  },
  {
   "cell_type": "markdown",
   "id": "5543112c",
   "metadata": {},
   "source": [
    "### TODO Recording:\n",
    "\n",
    "- Go to the UI\n",
    "- Click on the new random forest with default params run\n",
    "- Show everything that we have logged"
   ]
  },
  {
   "cell_type": "markdown",
   "id": "bbd54e85",
   "metadata": {},
   "source": [
    "We can also manually tune parameters and log only the tuned parameters"
   ]
  },
  {
   "cell_type": "code",
   "execution_count": 48,
   "id": "65c6d352",
   "metadata": {},
   "outputs": [],
   "source": [
    "with mlflow.start_run(run_name = 'Random Forest Regression tuned params') as rft_run:\n",
    "\n",
    "    n_estimators = 200\n",
    "    max_depth = 10\n",
    "    min_samples_split = 5\n",
    "    min_samples_leaf = 2\n",
    "   \n",
    "    rf_model = RandomForestRegressor(\n",
    "        n_estimators = n_estimators, \n",
    "        max_depth = max_depth,\n",
    "        min_samples_split = min_samples_split, \n",
    "        min_samples_leaf = min_samples_leaf)\n",
    "\n",
    "    rf_model.fit(X_train, y_train)\n",
    "    y_pred = rf_model.predict(X_test)\n",
    "    \n",
    "    training_score = rf_model.score(X_train,y_train)\n",
    "    mean_abs_error = mean_absolute_error(y_test, y_pred)\n",
    "    root_mean_sq_error = mean_squared_error(y_test, y_pred, squared = False)\n",
    "    test_score = r2_score(y_test, y_pred)\n",
    "\n",
    "    # Log params\n",
    "    params = {\n",
    "        'n_estimators': n_estimators, \n",
    "        'max_depth': max_depth,\n",
    "        'min_samples_split': min_samples_split, \n",
    "        'min_samples_leaf': min_samples_leaf\n",
    "    }\n",
    "    mlflow.log_params(params)\n",
    "    \n",
    "    # Log metrics\n",
    "    metrics = {\n",
    "        'Train_R2_score': training_score, \n",
    "        'Test_R2_score': test_score,\n",
    "        'Test_MAE': mean_abs_error, \n",
    "        'Test_RMSE': root_mean_sq_error\n",
    "    }\n",
    "    mlflow.log_metrics(metrics)\n",
    "    \n",
    "    mlflow.set_tag('Regressor', 'RF tuned parameters')"
   ]
  },
  {
   "cell_type": "markdown",
   "id": "41c7fab0",
   "metadata": {},
   "source": [
    "### TODO Recording:\n",
    "\n",
    "- Go to the UI\n",
    "- Click on the new random forest with tuned params run\n",
    "- Show everything that we have logged0\n",
    "\n",
    "##### All runs in the experiment\n",
    "\n",
    "- Now click on the experiment\n",
    "- On the page click on Columns\n",
    "- Show there are many columns that you can now include\n",
    "- Select Test R2 Score and Regressor (under tags)\n",
    "\n",
    "##### Sorting\n",
    "\n",
    "- Sort based on Train_R2_score and show\n",
    "- Sort based on Test_R2_score and show"
   ]
  },
  {
   "cell_type": "markdown",
   "id": "e5593df8",
   "metadata": {},
   "source": [
    "We can also search for runs using 'search_runs' and also obtain the data in sorted form in dataframe wrt some metric(here it is Test_R2_score). RF model with default parameters seem to have highest R2 score"
   ]
  },
  {
   "cell_type": "code",
   "execution_count": 49,
   "id": "98f19c30",
   "metadata": {},
   "outputs": [
    {
     "data": {
      "text/html": [
       "<div>\n",
       "<style scoped>\n",
       "    .dataframe tbody tr th:only-of-type {\n",
       "        vertical-align: middle;\n",
       "    }\n",
       "\n",
       "    .dataframe tbody tr th {\n",
       "        vertical-align: top;\n",
       "    }\n",
       "\n",
       "    .dataframe thead th {\n",
       "        text-align: right;\n",
       "    }\n",
       "</style>\n",
       "<table border=\"1\" class=\"dataframe\">\n",
       "  <thead>\n",
       "    <tr style=\"text-align: right;\">\n",
       "      <th></th>\n",
       "      <th>run_id</th>\n",
       "      <th>experiment_id</th>\n",
       "      <th>status</th>\n",
       "      <th>artifact_uri</th>\n",
       "      <th>start_time</th>\n",
       "      <th>end_time</th>\n",
       "      <th>metrics.Test_RMSE</th>\n",
       "      <th>metrics.Test_R2_score</th>\n",
       "      <th>metrics.Test_MAE</th>\n",
       "      <th>metrics.Train_R2_score</th>\n",
       "      <th>...</th>\n",
       "      <th>params.ccp_alpha</th>\n",
       "      <th>params.Degree of polynomial</th>\n",
       "      <th>params.copy_X</th>\n",
       "      <th>params.positive</th>\n",
       "      <th>params.fit_intercept</th>\n",
       "      <th>tags.mlflow.runName</th>\n",
       "      <th>tags.Regressor</th>\n",
       "      <th>tags.mlflow.source.type</th>\n",
       "      <th>tags.mlflow.user</th>\n",
       "      <th>tags.mlflow.source.name</th>\n",
       "    </tr>\n",
       "  </thead>\n",
       "  <tbody>\n",
       "    <tr>\n",
       "      <th>0</th>\n",
       "      <td>fcb5b5c40ff9452f8504c26d1f6a1570</td>\n",
       "      <td>130781408257073055</td>\n",
       "      <td>FINISHED</td>\n",
       "      <td>file:///Users/vitthalsrinivasan/Desktop/iMovie...</td>\n",
       "      <td>2023-06-20 06:47:34.130000+00:00</td>\n",
       "      <td>2023-06-20 06:47:40.046000+00:00</td>\n",
       "      <td>136575.529787</td>\n",
       "      <td>0.870711</td>\n",
       "      <td>71227.291341</td>\n",
       "      <td>0.982888</td>\n",
       "      <td>...</td>\n",
       "      <td>0.0</td>\n",
       "      <td>None</td>\n",
       "      <td>None</td>\n",
       "      <td>None</td>\n",
       "      <td>None</td>\n",
       "      <td>Random Forest Regression default params</td>\n",
       "      <td>RF default parameters</td>\n",
       "      <td>LOCAL</td>\n",
       "      <td>vitthalsrinivasan</td>\n",
       "      <td>/Users/vitthalsrinivasan/Desktop/iMovieLibrary...</td>\n",
       "    </tr>\n",
       "    <tr>\n",
       "      <th>1</th>\n",
       "      <td>1c336d2db796447194d2c0fa3fbd2ac3</td>\n",
       "      <td>130781408257073055</td>\n",
       "      <td>FINISHED</td>\n",
       "      <td>file:///Users/vitthalsrinivasan/Desktop/iMovie...</td>\n",
       "      <td>2023-06-20 06:50:41.537000+00:00</td>\n",
       "      <td>2023-06-20 06:50:48.599000+00:00</td>\n",
       "      <td>145550.093229</td>\n",
       "      <td>0.853161</td>\n",
       "      <td>77809.560870</td>\n",
       "      <td>0.928586</td>\n",
       "      <td>...</td>\n",
       "      <td>None</td>\n",
       "      <td>None</td>\n",
       "      <td>None</td>\n",
       "      <td>None</td>\n",
       "      <td>None</td>\n",
       "      <td>Random Forest Regression tuned params</td>\n",
       "      <td>RF-tuned_parameters</td>\n",
       "      <td>LOCAL</td>\n",
       "      <td>vitthalsrinivasan</td>\n",
       "      <td>/Users/vitthalsrinivasan/Desktop/iMovieLibrary...</td>\n",
       "    </tr>\n",
       "    <tr>\n",
       "      <th>2</th>\n",
       "      <td>e7a64210f5ec4f52ba687e616cb65701</td>\n",
       "      <td>130781408257073055</td>\n",
       "      <td>FINISHED</td>\n",
       "      <td>file:///Users/vitthalsrinivasan/Desktop/iMovie...</td>\n",
       "      <td>2023-06-20 06:39:37.478000+00:00</td>\n",
       "      <td>2023-06-20 06:39:37.659000+00:00</td>\n",
       "      <td>179695.211970</td>\n",
       "      <td>0.776184</td>\n",
       "      <td>109155.834895</td>\n",
       "      <td>0.805390</td>\n",
       "      <td>...</td>\n",
       "      <td>None</td>\n",
       "      <td>2</td>\n",
       "      <td>None</td>\n",
       "      <td>None</td>\n",
       "      <td>None</td>\n",
       "      <td>Polynomial Regression</td>\n",
       "      <td>Polynomial Regression Model with degree 2</td>\n",
       "      <td>LOCAL</td>\n",
       "      <td>vitthalsrinivasan</td>\n",
       "      <td>/Users/vitthalsrinivasan/Desktop/iMovieLibrary...</td>\n",
       "    </tr>\n",
       "    <tr>\n",
       "      <th>3</th>\n",
       "      <td>36b6952c5cef48a8841a1c1c65f50d04</td>\n",
       "      <td>130781408257073055</td>\n",
       "      <td>FINISHED</td>\n",
       "      <td>file:///Users/vitthalsrinivasan/Desktop/iMovie...</td>\n",
       "      <td>2023-06-20 06:33:59.802000+00:00</td>\n",
       "      <td>2023-06-20 06:33:59.959000+00:00</td>\n",
       "      <td>217987.842204</td>\n",
       "      <td>0.670632</td>\n",
       "      <td>129193.792152</td>\n",
       "      <td>0.701449</td>\n",
       "      <td>...</td>\n",
       "      <td>None</td>\n",
       "      <td>None</td>\n",
       "      <td>True</td>\n",
       "      <td>False</td>\n",
       "      <td>True</td>\n",
       "      <td>Multiple Linear Regression</td>\n",
       "      <td>Multiple Linear Regression Model</td>\n",
       "      <td>LOCAL</td>\n",
       "      <td>vitthalsrinivasan</td>\n",
       "      <td>/Users/vitthalsrinivasan/Desktop/iMovieLibrary...</td>\n",
       "    </tr>\n",
       "    <tr>\n",
       "      <th>4</th>\n",
       "      <td>47b6d2adc0ce4580baf9f02249302fa2</td>\n",
       "      <td>130781408257073055</td>\n",
       "      <td>FINISHED</td>\n",
       "      <td>file:///Users/vitthalsrinivasan/Desktop/iMovie...</td>\n",
       "      <td>2023-06-20 06:29:35.427000+00:00</td>\n",
       "      <td>2023-06-20 06:29:35.478000+00:00</td>\n",
       "      <td>217987.842204</td>\n",
       "      <td>0.670632</td>\n",
       "      <td>129193.792152</td>\n",
       "      <td>0.701449</td>\n",
       "      <td>...</td>\n",
       "      <td>None</td>\n",
       "      <td>None</td>\n",
       "      <td>True</td>\n",
       "      <td>False</td>\n",
       "      <td>True</td>\n",
       "      <td>Multiple Linear Regression</td>\n",
       "      <td>Multiple Linear Regression Model</td>\n",
       "      <td>LOCAL</td>\n",
       "      <td>vitthalsrinivasan</td>\n",
       "      <td>/Users/vitthalsrinivasan/Desktop/iMovieLibrary...</td>\n",
       "    </tr>\n",
       "    <tr>\n",
       "      <th>5</th>\n",
       "      <td>c8351c9cc69c4535839ff82d834bcbd6</td>\n",
       "      <td>130781408257073055</td>\n",
       "      <td>FINISHED</td>\n",
       "      <td>file:///Users/vitthalsrinivasan/Desktop/iMovie...</td>\n",
       "      <td>2023-06-20 06:26:22.284000+00:00</td>\n",
       "      <td>2023-06-20 06:26:22.303000+00:00</td>\n",
       "      <td>269918.618142</td>\n",
       "      <td>0.495010</td>\n",
       "      <td>174998.844355</td>\n",
       "      <td>0.491669</td>\n",
       "      <td>...</td>\n",
       "      <td>None</td>\n",
       "      <td>None</td>\n",
       "      <td>None</td>\n",
       "      <td>None</td>\n",
       "      <td>None</td>\n",
       "      <td>Simple Linear Regression</td>\n",
       "      <td>Simple Linear Regression Model</td>\n",
       "      <td>LOCAL</td>\n",
       "      <td>vitthalsrinivasan</td>\n",
       "      <td>/Users/vitthalsrinivasan/Desktop/iMovieLibrary...</td>\n",
       "    </tr>\n",
       "    <tr>\n",
       "      <th>6</th>\n",
       "      <td>51b34e07d7b743b8af7469c523e581ac</td>\n",
       "      <td>130781408257073055</td>\n",
       "      <td>FINISHED</td>\n",
       "      <td>file:///Users/vitthalsrinivasan/Desktop/iMovie...</td>\n",
       "      <td>2023-06-20 06:13:35.893000+00:00</td>\n",
       "      <td>2023-06-20 06:13:35.930000+00:00</td>\n",
       "      <td>269918.618142</td>\n",
       "      <td>0.495010</td>\n",
       "      <td>174998.844355</td>\n",
       "      <td>0.491669</td>\n",
       "      <td>...</td>\n",
       "      <td>None</td>\n",
       "      <td>None</td>\n",
       "      <td>None</td>\n",
       "      <td>None</td>\n",
       "      <td>None</td>\n",
       "      <td>Simple Linear Regression</td>\n",
       "      <td>Simple Linear Regression Model</td>\n",
       "      <td>LOCAL</td>\n",
       "      <td>vitthalsrinivasan</td>\n",
       "      <td>/Users/vitthalsrinivasan/Desktop/iMovieLibrary...</td>\n",
       "    </tr>\n",
       "    <tr>\n",
       "      <th>7</th>\n",
       "      <td>1f68d4163e814a478314c22deb7cf70a</td>\n",
       "      <td>130781408257073055</td>\n",
       "      <td>FINISHED</td>\n",
       "      <td>file:///Users/vitthalsrinivasan/Desktop/iMovie...</td>\n",
       "      <td>2023-06-20 06:06:37.799000+00:00</td>\n",
       "      <td>2023-06-20 06:06:38.077000+00:00</td>\n",
       "      <td>NaN</td>\n",
       "      <td>NaN</td>\n",
       "      <td>NaN</td>\n",
       "      <td>NaN</td>\n",
       "      <td>...</td>\n",
       "      <td>None</td>\n",
       "      <td>None</td>\n",
       "      <td>None</td>\n",
       "      <td>None</td>\n",
       "      <td>None</td>\n",
       "      <td>eda_plots_and_features_as_artifacts</td>\n",
       "      <td>None</td>\n",
       "      <td>LOCAL</td>\n",
       "      <td>vitthalsrinivasan</td>\n",
       "      <td>/Users/vitthalsrinivasan/Desktop/iMovieLibrary...</td>\n",
       "    </tr>\n",
       "    <tr>\n",
       "      <th>8</th>\n",
       "      <td>4ae512191c4f4b6f8dadc32bf2103bdd</td>\n",
       "      <td>130781408257073055</td>\n",
       "      <td>FINISHED</td>\n",
       "      <td>file:///Users/vitthalsrinivasan/Desktop/iMovie...</td>\n",
       "      <td>2023-06-20 06:04:50.060000+00:00</td>\n",
       "      <td>2023-06-20 06:04:57.067000+00:00</td>\n",
       "      <td>NaN</td>\n",
       "      <td>NaN</td>\n",
       "      <td>NaN</td>\n",
       "      <td>NaN</td>\n",
       "      <td>...</td>\n",
       "      <td>None</td>\n",
       "      <td>None</td>\n",
       "      <td>None</td>\n",
       "      <td>None</td>\n",
       "      <td>None</td>\n",
       "      <td>features_as_artifacts</td>\n",
       "      <td>None</td>\n",
       "      <td>LOCAL</td>\n",
       "      <td>vitthalsrinivasan</td>\n",
       "      <td>/Users/vitthalsrinivasan/Desktop/iMovieLibrary...</td>\n",
       "    </tr>\n",
       "    <tr>\n",
       "      <th>9</th>\n",
       "      <td>314af1d50e2f4d68a597c619ace6af5b</td>\n",
       "      <td>130781408257073055</td>\n",
       "      <td>FINISHED</td>\n",
       "      <td>file:///Users/vitthalsrinivasan/Desktop/iMovie...</td>\n",
       "      <td>2023-06-20 06:03:20.588000+00:00</td>\n",
       "      <td>2023-06-20 06:03:20.878000+00:00</td>\n",
       "      <td>NaN</td>\n",
       "      <td>NaN</td>\n",
       "      <td>NaN</td>\n",
       "      <td>NaN</td>\n",
       "      <td>...</td>\n",
       "      <td>None</td>\n",
       "      <td>None</td>\n",
       "      <td>None</td>\n",
       "      <td>None</td>\n",
       "      <td>None</td>\n",
       "      <td>exploratory_data_analysis</td>\n",
       "      <td>None</td>\n",
       "      <td>LOCAL</td>\n",
       "      <td>vitthalsrinivasan</td>\n",
       "      <td>/Users/vitthalsrinivasan/Desktop/iMovieLibrary...</td>\n",
       "    </tr>\n",
       "    <tr>\n",
       "      <th>10</th>\n",
       "      <td>76cc524594c34a5d9eb469d27eba779e</td>\n",
       "      <td>130781408257073055</td>\n",
       "      <td>FINISHED</td>\n",
       "      <td>file:///Users/vitthalsrinivasan/Desktop/iMovie...</td>\n",
       "      <td>2023-06-20 06:01:36.987000+00:00</td>\n",
       "      <td>2023-06-20 06:03:12.029000+00:00</td>\n",
       "      <td>NaN</td>\n",
       "      <td>NaN</td>\n",
       "      <td>NaN</td>\n",
       "      <td>NaN</td>\n",
       "      <td>...</td>\n",
       "      <td>None</td>\n",
       "      <td>None</td>\n",
       "      <td>None</td>\n",
       "      <td>None</td>\n",
       "      <td>None</td>\n",
       "      <td>omniscient-worm-773</td>\n",
       "      <td>None</td>\n",
       "      <td>LOCAL</td>\n",
       "      <td>vitthalsrinivasan</td>\n",
       "      <td>/Users/vitthalsrinivasan/Desktop/iMovieLibrary...</td>\n",
       "    </tr>\n",
       "  </tbody>\n",
       "</table>\n",
       "<p>11 rows × 36 columns</p>\n",
       "</div>"
      ],
      "text/plain": [
       "                              run_id       experiment_id    status  \\\n",
       "0   fcb5b5c40ff9452f8504c26d1f6a1570  130781408257073055  FINISHED   \n",
       "1   1c336d2db796447194d2c0fa3fbd2ac3  130781408257073055  FINISHED   \n",
       "2   e7a64210f5ec4f52ba687e616cb65701  130781408257073055  FINISHED   \n",
       "3   36b6952c5cef48a8841a1c1c65f50d04  130781408257073055  FINISHED   \n",
       "4   47b6d2adc0ce4580baf9f02249302fa2  130781408257073055  FINISHED   \n",
       "5   c8351c9cc69c4535839ff82d834bcbd6  130781408257073055  FINISHED   \n",
       "6   51b34e07d7b743b8af7469c523e581ac  130781408257073055  FINISHED   \n",
       "7   1f68d4163e814a478314c22deb7cf70a  130781408257073055  FINISHED   \n",
       "8   4ae512191c4f4b6f8dadc32bf2103bdd  130781408257073055  FINISHED   \n",
       "9   314af1d50e2f4d68a597c619ace6af5b  130781408257073055  FINISHED   \n",
       "10  76cc524594c34a5d9eb469d27eba779e  130781408257073055  FINISHED   \n",
       "\n",
       "                                         artifact_uri  \\\n",
       "0   file:///Users/vitthalsrinivasan/Desktop/iMovie...   \n",
       "1   file:///Users/vitthalsrinivasan/Desktop/iMovie...   \n",
       "2   file:///Users/vitthalsrinivasan/Desktop/iMovie...   \n",
       "3   file:///Users/vitthalsrinivasan/Desktop/iMovie...   \n",
       "4   file:///Users/vitthalsrinivasan/Desktop/iMovie...   \n",
       "5   file:///Users/vitthalsrinivasan/Desktop/iMovie...   \n",
       "6   file:///Users/vitthalsrinivasan/Desktop/iMovie...   \n",
       "7   file:///Users/vitthalsrinivasan/Desktop/iMovie...   \n",
       "8   file:///Users/vitthalsrinivasan/Desktop/iMovie...   \n",
       "9   file:///Users/vitthalsrinivasan/Desktop/iMovie...   \n",
       "10  file:///Users/vitthalsrinivasan/Desktop/iMovie...   \n",
       "\n",
       "                         start_time                         end_time  \\\n",
       "0  2023-06-20 06:47:34.130000+00:00 2023-06-20 06:47:40.046000+00:00   \n",
       "1  2023-06-20 06:50:41.537000+00:00 2023-06-20 06:50:48.599000+00:00   \n",
       "2  2023-06-20 06:39:37.478000+00:00 2023-06-20 06:39:37.659000+00:00   \n",
       "3  2023-06-20 06:33:59.802000+00:00 2023-06-20 06:33:59.959000+00:00   \n",
       "4  2023-06-20 06:29:35.427000+00:00 2023-06-20 06:29:35.478000+00:00   \n",
       "5  2023-06-20 06:26:22.284000+00:00 2023-06-20 06:26:22.303000+00:00   \n",
       "6  2023-06-20 06:13:35.893000+00:00 2023-06-20 06:13:35.930000+00:00   \n",
       "7  2023-06-20 06:06:37.799000+00:00 2023-06-20 06:06:38.077000+00:00   \n",
       "8  2023-06-20 06:04:50.060000+00:00 2023-06-20 06:04:57.067000+00:00   \n",
       "9  2023-06-20 06:03:20.588000+00:00 2023-06-20 06:03:20.878000+00:00   \n",
       "10 2023-06-20 06:01:36.987000+00:00 2023-06-20 06:03:12.029000+00:00   \n",
       "\n",
       "    metrics.Test_RMSE  metrics.Test_R2_score  metrics.Test_MAE  \\\n",
       "0       136575.529787               0.870711      71227.291341   \n",
       "1       145550.093229               0.853161      77809.560870   \n",
       "2       179695.211970               0.776184     109155.834895   \n",
       "3       217987.842204               0.670632     129193.792152   \n",
       "4       217987.842204               0.670632     129193.792152   \n",
       "5       269918.618142               0.495010     174998.844355   \n",
       "6       269918.618142               0.495010     174998.844355   \n",
       "7                 NaN                    NaN               NaN   \n",
       "8                 NaN                    NaN               NaN   \n",
       "9                 NaN                    NaN               NaN   \n",
       "10                NaN                    NaN               NaN   \n",
       "\n",
       "    metrics.Train_R2_score  ... params.ccp_alpha params.Degree of polynomial  \\\n",
       "0                 0.982888  ...              0.0                        None   \n",
       "1                 0.928586  ...             None                        None   \n",
       "2                 0.805390  ...             None                           2   \n",
       "3                 0.701449  ...             None                        None   \n",
       "4                 0.701449  ...             None                        None   \n",
       "5                 0.491669  ...             None                        None   \n",
       "6                 0.491669  ...             None                        None   \n",
       "7                      NaN  ...             None                        None   \n",
       "8                      NaN  ...             None                        None   \n",
       "9                      NaN  ...             None                        None   \n",
       "10                     NaN  ...             None                        None   \n",
       "\n",
       "   params.copy_X params.positive params.fit_intercept  \\\n",
       "0           None            None                 None   \n",
       "1           None            None                 None   \n",
       "2           None            None                 None   \n",
       "3           True           False                 True   \n",
       "4           True           False                 True   \n",
       "5           None            None                 None   \n",
       "6           None            None                 None   \n",
       "7           None            None                 None   \n",
       "8           None            None                 None   \n",
       "9           None            None                 None   \n",
       "10          None            None                 None   \n",
       "\n",
       "                        tags.mlflow.runName  \\\n",
       "0   Random Forest Regression default params   \n",
       "1     Random Forest Regression tuned params   \n",
       "2                     Polynomial Regression   \n",
       "3                Multiple Linear Regression   \n",
       "4                Multiple Linear Regression   \n",
       "5                  Simple Linear Regression   \n",
       "6                  Simple Linear Regression   \n",
       "7       eda_plots_and_features_as_artifacts   \n",
       "8                     features_as_artifacts   \n",
       "9                 exploratory_data_analysis   \n",
       "10                      omniscient-worm-773   \n",
       "\n",
       "                               tags.Regressor tags.mlflow.source.type  \\\n",
       "0                       RF default parameters                   LOCAL   \n",
       "1                         RF-tuned_parameters                   LOCAL   \n",
       "2   Polynomial Regression Model with degree 2                   LOCAL   \n",
       "3            Multiple Linear Regression Model                   LOCAL   \n",
       "4            Multiple Linear Regression Model                   LOCAL   \n",
       "5              Simple Linear Regression Model                   LOCAL   \n",
       "6              Simple Linear Regression Model                   LOCAL   \n",
       "7                                        None                   LOCAL   \n",
       "8                                        None                   LOCAL   \n",
       "9                                        None                   LOCAL   \n",
       "10                                       None                   LOCAL   \n",
       "\n",
       "     tags.mlflow.user                            tags.mlflow.source.name  \n",
       "0   vitthalsrinivasan  /Users/vitthalsrinivasan/Desktop/iMovieLibrary...  \n",
       "1   vitthalsrinivasan  /Users/vitthalsrinivasan/Desktop/iMovieLibrary...  \n",
       "2   vitthalsrinivasan  /Users/vitthalsrinivasan/Desktop/iMovieLibrary...  \n",
       "3   vitthalsrinivasan  /Users/vitthalsrinivasan/Desktop/iMovieLibrary...  \n",
       "4   vitthalsrinivasan  /Users/vitthalsrinivasan/Desktop/iMovieLibrary...  \n",
       "5   vitthalsrinivasan  /Users/vitthalsrinivasan/Desktop/iMovieLibrary...  \n",
       "6   vitthalsrinivasan  /Users/vitthalsrinivasan/Desktop/iMovieLibrary...  \n",
       "7   vitthalsrinivasan  /Users/vitthalsrinivasan/Desktop/iMovieLibrary...  \n",
       "8   vitthalsrinivasan  /Users/vitthalsrinivasan/Desktop/iMovieLibrary...  \n",
       "9   vitthalsrinivasan  /Users/vitthalsrinivasan/Desktop/iMovieLibrary...  \n",
       "10  vitthalsrinivasan  /Users/vitthalsrinivasan/Desktop/iMovieLibrary...  \n",
       "\n",
       "[11 rows x 36 columns]"
      ]
     },
     "execution_count": 49,
     "metadata": {},
     "output_type": "execute_result"
    }
   ],
   "source": [
    "df_run_metrics = mlflow.search_runs(\n",
    "    [experiment.experiment_id], order_by = ['metrics.Test_R2_score DESC'])\n",
    " \n",
    "df_run_metrics"
   ]
  },
  {
   "cell_type": "markdown",
   "id": "70b1f070",
   "metadata": {},
   "source": [
    "Deleting a specific run"
   ]
  },
  {
   "cell_type": "code",
   "execution_count": 50,
   "id": "a3411de0",
   "metadata": {},
   "outputs": [
    {
     "data": {
      "text/plain": [
       "'c8351c9cc69c4535839ff82d834bcbd6'"
      ]
     },
     "execution_count": 50,
     "metadata": {},
     "output_type": "execute_result"
    }
   ],
   "source": [
    "run_id_for_delete = df_run_metrics.loc[5, 'run_id']\n",
    " \n",
    "run_id_for_delete"
   ]
  },
  {
   "cell_type": "markdown",
   "id": "e5d9f78e",
   "metadata": {},
   "source": [
    "We can easily delete any run using UI. Here we are showing programmatically method of deletion of run"
   ]
  },
  {
   "cell_type": "code",
   "execution_count": 51,
   "id": "1a1c477e",
   "metadata": {},
   "outputs": [],
   "source": [
    "mlflow.delete_run(run_id_for_delete)"
   ]
  },
  {
   "cell_type": "markdown",
   "id": "89417777",
   "metadata": {},
   "source": [
    "Checking the deletion"
   ]
  },
  {
   "cell_type": "code",
   "execution_count": 52,
   "id": "30f5f26b",
   "metadata": {},
   "outputs": [
    {
     "data": {
      "text/html": [
       "<div>\n",
       "<style scoped>\n",
       "    .dataframe tbody tr th:only-of-type {\n",
       "        vertical-align: middle;\n",
       "    }\n",
       "\n",
       "    .dataframe tbody tr th {\n",
       "        vertical-align: top;\n",
       "    }\n",
       "\n",
       "    .dataframe thead th {\n",
       "        text-align: right;\n",
       "    }\n",
       "</style>\n",
       "<table border=\"1\" class=\"dataframe\">\n",
       "  <thead>\n",
       "    <tr style=\"text-align: right;\">\n",
       "      <th></th>\n",
       "      <th>run_id</th>\n",
       "      <th>experiment_id</th>\n",
       "      <th>status</th>\n",
       "      <th>artifact_uri</th>\n",
       "      <th>start_time</th>\n",
       "      <th>end_time</th>\n",
       "      <th>metrics.Test_RMSE</th>\n",
       "      <th>metrics.Test_R2_score</th>\n",
       "      <th>metrics.Test_MAE</th>\n",
       "      <th>metrics.Train_R2_score</th>\n",
       "      <th>...</th>\n",
       "      <th>params.ccp_alpha</th>\n",
       "      <th>params.Degree of polynomial</th>\n",
       "      <th>params.copy_X</th>\n",
       "      <th>params.positive</th>\n",
       "      <th>params.fit_intercept</th>\n",
       "      <th>tags.mlflow.runName</th>\n",
       "      <th>tags.Regressor</th>\n",
       "      <th>tags.mlflow.source.type</th>\n",
       "      <th>tags.mlflow.user</th>\n",
       "      <th>tags.mlflow.source.name</th>\n",
       "    </tr>\n",
       "  </thead>\n",
       "  <tbody>\n",
       "    <tr>\n",
       "      <th>0</th>\n",
       "      <td>fcb5b5c40ff9452f8504c26d1f6a1570</td>\n",
       "      <td>130781408257073055</td>\n",
       "      <td>FINISHED</td>\n",
       "      <td>file:///Users/vitthalsrinivasan/Desktop/iMovie...</td>\n",
       "      <td>2023-06-20 06:47:34.130000+00:00</td>\n",
       "      <td>2023-06-20 06:47:40.046000+00:00</td>\n",
       "      <td>136575.529787</td>\n",
       "      <td>0.870711</td>\n",
       "      <td>71227.291341</td>\n",
       "      <td>0.982888</td>\n",
       "      <td>...</td>\n",
       "      <td>0.0</td>\n",
       "      <td>None</td>\n",
       "      <td>None</td>\n",
       "      <td>None</td>\n",
       "      <td>None</td>\n",
       "      <td>Random Forest Regression default params</td>\n",
       "      <td>RF default parameters</td>\n",
       "      <td>LOCAL</td>\n",
       "      <td>vitthalsrinivasan</td>\n",
       "      <td>/Users/vitthalsrinivasan/Desktop/iMovieLibrary...</td>\n",
       "    </tr>\n",
       "    <tr>\n",
       "      <th>1</th>\n",
       "      <td>1c336d2db796447194d2c0fa3fbd2ac3</td>\n",
       "      <td>130781408257073055</td>\n",
       "      <td>FINISHED</td>\n",
       "      <td>file:///Users/vitthalsrinivasan/Desktop/iMovie...</td>\n",
       "      <td>2023-06-20 06:50:41.537000+00:00</td>\n",
       "      <td>2023-06-20 06:50:48.599000+00:00</td>\n",
       "      <td>145550.093229</td>\n",
       "      <td>0.853161</td>\n",
       "      <td>77809.560870</td>\n",
       "      <td>0.928586</td>\n",
       "      <td>...</td>\n",
       "      <td>None</td>\n",
       "      <td>None</td>\n",
       "      <td>None</td>\n",
       "      <td>None</td>\n",
       "      <td>None</td>\n",
       "      <td>Random Forest Regression tuned params</td>\n",
       "      <td>RF-tuned_parameters</td>\n",
       "      <td>LOCAL</td>\n",
       "      <td>vitthalsrinivasan</td>\n",
       "      <td>/Users/vitthalsrinivasan/Desktop/iMovieLibrary...</td>\n",
       "    </tr>\n",
       "    <tr>\n",
       "      <th>2</th>\n",
       "      <td>e7a64210f5ec4f52ba687e616cb65701</td>\n",
       "      <td>130781408257073055</td>\n",
       "      <td>FINISHED</td>\n",
       "      <td>file:///Users/vitthalsrinivasan/Desktop/iMovie...</td>\n",
       "      <td>2023-06-20 06:39:37.478000+00:00</td>\n",
       "      <td>2023-06-20 06:39:37.659000+00:00</td>\n",
       "      <td>179695.211970</td>\n",
       "      <td>0.776184</td>\n",
       "      <td>109155.834895</td>\n",
       "      <td>0.805390</td>\n",
       "      <td>...</td>\n",
       "      <td>None</td>\n",
       "      <td>2</td>\n",
       "      <td>None</td>\n",
       "      <td>None</td>\n",
       "      <td>None</td>\n",
       "      <td>Polynomial Regression</td>\n",
       "      <td>Polynomial Regression Model with degree 2</td>\n",
       "      <td>LOCAL</td>\n",
       "      <td>vitthalsrinivasan</td>\n",
       "      <td>/Users/vitthalsrinivasan/Desktop/iMovieLibrary...</td>\n",
       "    </tr>\n",
       "    <tr>\n",
       "      <th>3</th>\n",
       "      <td>36b6952c5cef48a8841a1c1c65f50d04</td>\n",
       "      <td>130781408257073055</td>\n",
       "      <td>FINISHED</td>\n",
       "      <td>file:///Users/vitthalsrinivasan/Desktop/iMovie...</td>\n",
       "      <td>2023-06-20 06:33:59.802000+00:00</td>\n",
       "      <td>2023-06-20 06:33:59.959000+00:00</td>\n",
       "      <td>217987.842204</td>\n",
       "      <td>0.670632</td>\n",
       "      <td>129193.792152</td>\n",
       "      <td>0.701449</td>\n",
       "      <td>...</td>\n",
       "      <td>None</td>\n",
       "      <td>None</td>\n",
       "      <td>True</td>\n",
       "      <td>False</td>\n",
       "      <td>True</td>\n",
       "      <td>Multiple Linear Regression</td>\n",
       "      <td>Multiple Linear Regression Model</td>\n",
       "      <td>LOCAL</td>\n",
       "      <td>vitthalsrinivasan</td>\n",
       "      <td>/Users/vitthalsrinivasan/Desktop/iMovieLibrary...</td>\n",
       "    </tr>\n",
       "    <tr>\n",
       "      <th>4</th>\n",
       "      <td>47b6d2adc0ce4580baf9f02249302fa2</td>\n",
       "      <td>130781408257073055</td>\n",
       "      <td>FINISHED</td>\n",
       "      <td>file:///Users/vitthalsrinivasan/Desktop/iMovie...</td>\n",
       "      <td>2023-06-20 06:29:35.427000+00:00</td>\n",
       "      <td>2023-06-20 06:29:35.478000+00:00</td>\n",
       "      <td>217987.842204</td>\n",
       "      <td>0.670632</td>\n",
       "      <td>129193.792152</td>\n",
       "      <td>0.701449</td>\n",
       "      <td>...</td>\n",
       "      <td>None</td>\n",
       "      <td>None</td>\n",
       "      <td>True</td>\n",
       "      <td>False</td>\n",
       "      <td>True</td>\n",
       "      <td>Multiple Linear Regression</td>\n",
       "      <td>Multiple Linear Regression Model</td>\n",
       "      <td>LOCAL</td>\n",
       "      <td>vitthalsrinivasan</td>\n",
       "      <td>/Users/vitthalsrinivasan/Desktop/iMovieLibrary...</td>\n",
       "    </tr>\n",
       "    <tr>\n",
       "      <th>5</th>\n",
       "      <td>51b34e07d7b743b8af7469c523e581ac</td>\n",
       "      <td>130781408257073055</td>\n",
       "      <td>FINISHED</td>\n",
       "      <td>file:///Users/vitthalsrinivasan/Desktop/iMovie...</td>\n",
       "      <td>2023-06-20 06:13:35.893000+00:00</td>\n",
       "      <td>2023-06-20 06:13:35.930000+00:00</td>\n",
       "      <td>269918.618142</td>\n",
       "      <td>0.495010</td>\n",
       "      <td>174998.844355</td>\n",
       "      <td>0.491669</td>\n",
       "      <td>...</td>\n",
       "      <td>None</td>\n",
       "      <td>None</td>\n",
       "      <td>None</td>\n",
       "      <td>None</td>\n",
       "      <td>None</td>\n",
       "      <td>Simple Linear Regression</td>\n",
       "      <td>Simple Linear Regression Model</td>\n",
       "      <td>LOCAL</td>\n",
       "      <td>vitthalsrinivasan</td>\n",
       "      <td>/Users/vitthalsrinivasan/Desktop/iMovieLibrary...</td>\n",
       "    </tr>\n",
       "    <tr>\n",
       "      <th>6</th>\n",
       "      <td>1f68d4163e814a478314c22deb7cf70a</td>\n",
       "      <td>130781408257073055</td>\n",
       "      <td>FINISHED</td>\n",
       "      <td>file:///Users/vitthalsrinivasan/Desktop/iMovie...</td>\n",
       "      <td>2023-06-20 06:06:37.799000+00:00</td>\n",
       "      <td>2023-06-20 06:06:38.077000+00:00</td>\n",
       "      <td>NaN</td>\n",
       "      <td>NaN</td>\n",
       "      <td>NaN</td>\n",
       "      <td>NaN</td>\n",
       "      <td>...</td>\n",
       "      <td>None</td>\n",
       "      <td>None</td>\n",
       "      <td>None</td>\n",
       "      <td>None</td>\n",
       "      <td>None</td>\n",
       "      <td>eda_plots_and_features_as_artifacts</td>\n",
       "      <td>None</td>\n",
       "      <td>LOCAL</td>\n",
       "      <td>vitthalsrinivasan</td>\n",
       "      <td>/Users/vitthalsrinivasan/Desktop/iMovieLibrary...</td>\n",
       "    </tr>\n",
       "    <tr>\n",
       "      <th>7</th>\n",
       "      <td>4ae512191c4f4b6f8dadc32bf2103bdd</td>\n",
       "      <td>130781408257073055</td>\n",
       "      <td>FINISHED</td>\n",
       "      <td>file:///Users/vitthalsrinivasan/Desktop/iMovie...</td>\n",
       "      <td>2023-06-20 06:04:50.060000+00:00</td>\n",
       "      <td>2023-06-20 06:04:57.067000+00:00</td>\n",
       "      <td>NaN</td>\n",
       "      <td>NaN</td>\n",
       "      <td>NaN</td>\n",
       "      <td>NaN</td>\n",
       "      <td>...</td>\n",
       "      <td>None</td>\n",
       "      <td>None</td>\n",
       "      <td>None</td>\n",
       "      <td>None</td>\n",
       "      <td>None</td>\n",
       "      <td>features_as_artifacts</td>\n",
       "      <td>None</td>\n",
       "      <td>LOCAL</td>\n",
       "      <td>vitthalsrinivasan</td>\n",
       "      <td>/Users/vitthalsrinivasan/Desktop/iMovieLibrary...</td>\n",
       "    </tr>\n",
       "    <tr>\n",
       "      <th>8</th>\n",
       "      <td>314af1d50e2f4d68a597c619ace6af5b</td>\n",
       "      <td>130781408257073055</td>\n",
       "      <td>FINISHED</td>\n",
       "      <td>file:///Users/vitthalsrinivasan/Desktop/iMovie...</td>\n",
       "      <td>2023-06-20 06:03:20.588000+00:00</td>\n",
       "      <td>2023-06-20 06:03:20.878000+00:00</td>\n",
       "      <td>NaN</td>\n",
       "      <td>NaN</td>\n",
       "      <td>NaN</td>\n",
       "      <td>NaN</td>\n",
       "      <td>...</td>\n",
       "      <td>None</td>\n",
       "      <td>None</td>\n",
       "      <td>None</td>\n",
       "      <td>None</td>\n",
       "      <td>None</td>\n",
       "      <td>exploratory_data_analysis</td>\n",
       "      <td>None</td>\n",
       "      <td>LOCAL</td>\n",
       "      <td>vitthalsrinivasan</td>\n",
       "      <td>/Users/vitthalsrinivasan/Desktop/iMovieLibrary...</td>\n",
       "    </tr>\n",
       "    <tr>\n",
       "      <th>9</th>\n",
       "      <td>76cc524594c34a5d9eb469d27eba779e</td>\n",
       "      <td>130781408257073055</td>\n",
       "      <td>FINISHED</td>\n",
       "      <td>file:///Users/vitthalsrinivasan/Desktop/iMovie...</td>\n",
       "      <td>2023-06-20 06:01:36.987000+00:00</td>\n",
       "      <td>2023-06-20 06:03:12.029000+00:00</td>\n",
       "      <td>NaN</td>\n",
       "      <td>NaN</td>\n",
       "      <td>NaN</td>\n",
       "      <td>NaN</td>\n",
       "      <td>...</td>\n",
       "      <td>None</td>\n",
       "      <td>None</td>\n",
       "      <td>None</td>\n",
       "      <td>None</td>\n",
       "      <td>None</td>\n",
       "      <td>omniscient-worm-773</td>\n",
       "      <td>None</td>\n",
       "      <td>LOCAL</td>\n",
       "      <td>vitthalsrinivasan</td>\n",
       "      <td>/Users/vitthalsrinivasan/Desktop/iMovieLibrary...</td>\n",
       "    </tr>\n",
       "  </tbody>\n",
       "</table>\n",
       "<p>10 rows × 36 columns</p>\n",
       "</div>"
      ],
      "text/plain": [
       "                             run_id       experiment_id    status  \\\n",
       "0  fcb5b5c40ff9452f8504c26d1f6a1570  130781408257073055  FINISHED   \n",
       "1  1c336d2db796447194d2c0fa3fbd2ac3  130781408257073055  FINISHED   \n",
       "2  e7a64210f5ec4f52ba687e616cb65701  130781408257073055  FINISHED   \n",
       "3  36b6952c5cef48a8841a1c1c65f50d04  130781408257073055  FINISHED   \n",
       "4  47b6d2adc0ce4580baf9f02249302fa2  130781408257073055  FINISHED   \n",
       "5  51b34e07d7b743b8af7469c523e581ac  130781408257073055  FINISHED   \n",
       "6  1f68d4163e814a478314c22deb7cf70a  130781408257073055  FINISHED   \n",
       "7  4ae512191c4f4b6f8dadc32bf2103bdd  130781408257073055  FINISHED   \n",
       "8  314af1d50e2f4d68a597c619ace6af5b  130781408257073055  FINISHED   \n",
       "9  76cc524594c34a5d9eb469d27eba779e  130781408257073055  FINISHED   \n",
       "\n",
       "                                        artifact_uri  \\\n",
       "0  file:///Users/vitthalsrinivasan/Desktop/iMovie...   \n",
       "1  file:///Users/vitthalsrinivasan/Desktop/iMovie...   \n",
       "2  file:///Users/vitthalsrinivasan/Desktop/iMovie...   \n",
       "3  file:///Users/vitthalsrinivasan/Desktop/iMovie...   \n",
       "4  file:///Users/vitthalsrinivasan/Desktop/iMovie...   \n",
       "5  file:///Users/vitthalsrinivasan/Desktop/iMovie...   \n",
       "6  file:///Users/vitthalsrinivasan/Desktop/iMovie...   \n",
       "7  file:///Users/vitthalsrinivasan/Desktop/iMovie...   \n",
       "8  file:///Users/vitthalsrinivasan/Desktop/iMovie...   \n",
       "9  file:///Users/vitthalsrinivasan/Desktop/iMovie...   \n",
       "\n",
       "                        start_time                         end_time  \\\n",
       "0 2023-06-20 06:47:34.130000+00:00 2023-06-20 06:47:40.046000+00:00   \n",
       "1 2023-06-20 06:50:41.537000+00:00 2023-06-20 06:50:48.599000+00:00   \n",
       "2 2023-06-20 06:39:37.478000+00:00 2023-06-20 06:39:37.659000+00:00   \n",
       "3 2023-06-20 06:33:59.802000+00:00 2023-06-20 06:33:59.959000+00:00   \n",
       "4 2023-06-20 06:29:35.427000+00:00 2023-06-20 06:29:35.478000+00:00   \n",
       "5 2023-06-20 06:13:35.893000+00:00 2023-06-20 06:13:35.930000+00:00   \n",
       "6 2023-06-20 06:06:37.799000+00:00 2023-06-20 06:06:38.077000+00:00   \n",
       "7 2023-06-20 06:04:50.060000+00:00 2023-06-20 06:04:57.067000+00:00   \n",
       "8 2023-06-20 06:03:20.588000+00:00 2023-06-20 06:03:20.878000+00:00   \n",
       "9 2023-06-20 06:01:36.987000+00:00 2023-06-20 06:03:12.029000+00:00   \n",
       "\n",
       "   metrics.Test_RMSE  metrics.Test_R2_score  metrics.Test_MAE  \\\n",
       "0      136575.529787               0.870711      71227.291341   \n",
       "1      145550.093229               0.853161      77809.560870   \n",
       "2      179695.211970               0.776184     109155.834895   \n",
       "3      217987.842204               0.670632     129193.792152   \n",
       "4      217987.842204               0.670632     129193.792152   \n",
       "5      269918.618142               0.495010     174998.844355   \n",
       "6                NaN                    NaN               NaN   \n",
       "7                NaN                    NaN               NaN   \n",
       "8                NaN                    NaN               NaN   \n",
       "9                NaN                    NaN               NaN   \n",
       "\n",
       "   metrics.Train_R2_score  ... params.ccp_alpha params.Degree of polynomial  \\\n",
       "0                0.982888  ...              0.0                        None   \n",
       "1                0.928586  ...             None                        None   \n",
       "2                0.805390  ...             None                           2   \n",
       "3                0.701449  ...             None                        None   \n",
       "4                0.701449  ...             None                        None   \n",
       "5                0.491669  ...             None                        None   \n",
       "6                     NaN  ...             None                        None   \n",
       "7                     NaN  ...             None                        None   \n",
       "8                     NaN  ...             None                        None   \n",
       "9                     NaN  ...             None                        None   \n",
       "\n",
       "  params.copy_X params.positive params.fit_intercept  \\\n",
       "0          None            None                 None   \n",
       "1          None            None                 None   \n",
       "2          None            None                 None   \n",
       "3          True           False                 True   \n",
       "4          True           False                 True   \n",
       "5          None            None                 None   \n",
       "6          None            None                 None   \n",
       "7          None            None                 None   \n",
       "8          None            None                 None   \n",
       "9          None            None                 None   \n",
       "\n",
       "                       tags.mlflow.runName  \\\n",
       "0  Random Forest Regression default params   \n",
       "1    Random Forest Regression tuned params   \n",
       "2                    Polynomial Regression   \n",
       "3               Multiple Linear Regression   \n",
       "4               Multiple Linear Regression   \n",
       "5                 Simple Linear Regression   \n",
       "6      eda_plots_and_features_as_artifacts   \n",
       "7                    features_as_artifacts   \n",
       "8                exploratory_data_analysis   \n",
       "9                      omniscient-worm-773   \n",
       "\n",
       "                              tags.Regressor tags.mlflow.source.type  \\\n",
       "0                      RF default parameters                   LOCAL   \n",
       "1                        RF-tuned_parameters                   LOCAL   \n",
       "2  Polynomial Regression Model with degree 2                   LOCAL   \n",
       "3           Multiple Linear Regression Model                   LOCAL   \n",
       "4           Multiple Linear Regression Model                   LOCAL   \n",
       "5             Simple Linear Regression Model                   LOCAL   \n",
       "6                                       None                   LOCAL   \n",
       "7                                       None                   LOCAL   \n",
       "8                                       None                   LOCAL   \n",
       "9                                       None                   LOCAL   \n",
       "\n",
       "    tags.mlflow.user                            tags.mlflow.source.name  \n",
       "0  vitthalsrinivasan  /Users/vitthalsrinivasan/Desktop/iMovieLibrary...  \n",
       "1  vitthalsrinivasan  /Users/vitthalsrinivasan/Desktop/iMovieLibrary...  \n",
       "2  vitthalsrinivasan  /Users/vitthalsrinivasan/Desktop/iMovieLibrary...  \n",
       "3  vitthalsrinivasan  /Users/vitthalsrinivasan/Desktop/iMovieLibrary...  \n",
       "4  vitthalsrinivasan  /Users/vitthalsrinivasan/Desktop/iMovieLibrary...  \n",
       "5  vitthalsrinivasan  /Users/vitthalsrinivasan/Desktop/iMovieLibrary...  \n",
       "6  vitthalsrinivasan  /Users/vitthalsrinivasan/Desktop/iMovieLibrary...  \n",
       "7  vitthalsrinivasan  /Users/vitthalsrinivasan/Desktop/iMovieLibrary...  \n",
       "8  vitthalsrinivasan  /Users/vitthalsrinivasan/Desktop/iMovieLibrary...  \n",
       "9  vitthalsrinivasan  /Users/vitthalsrinivasan/Desktop/iMovieLibrary...  \n",
       "\n",
       "[10 rows x 36 columns]"
      ]
     },
     "execution_count": 52,
     "metadata": {},
     "output_type": "execute_result"
    }
   ],
   "source": [
    "df_run_metrics = mlflow.search_runs(\n",
    "    [experiment.experiment_id], order_by = ['metrics.Test_R2_score DESC'])\n",
    " \n",
    "df_run_metrics"
   ]
  },
  {
   "cell_type": "markdown",
   "id": "9d96b2a7",
   "metadata": {},
   "source": [
    "Runs can be searched by using filter string.Only runs with Test R2 score above 0.8 are filtered out"
   ]
  },
  {
   "cell_type": "code",
   "execution_count": 55,
   "id": "7cb2fb88",
   "metadata": {},
   "outputs": [
    {
     "data": {
      "text/html": [
       "<div>\n",
       "<style scoped>\n",
       "    .dataframe tbody tr th:only-of-type {\n",
       "        vertical-align: middle;\n",
       "    }\n",
       "\n",
       "    .dataframe tbody tr th {\n",
       "        vertical-align: top;\n",
       "    }\n",
       "\n",
       "    .dataframe thead th {\n",
       "        text-align: right;\n",
       "    }\n",
       "</style>\n",
       "<table border=\"1\" class=\"dataframe\">\n",
       "  <thead>\n",
       "    <tr style=\"text-align: right;\">\n",
       "      <th></th>\n",
       "      <th>run_id</th>\n",
       "      <th>metrics.Test_R2_score</th>\n",
       "      <th>metrics.Train_R2_score</th>\n",
       "      <th>tags.Regressor</th>\n",
       "    </tr>\n",
       "  </thead>\n",
       "  <tbody>\n",
       "    <tr>\n",
       "      <th>0</th>\n",
       "      <td>fcb5b5c40ff9452f8504c26d1f6a1570</td>\n",
       "      <td>0.870711</td>\n",
       "      <td>0.982888</td>\n",
       "      <td>RF default parameters</td>\n",
       "    </tr>\n",
       "    <tr>\n",
       "      <th>1</th>\n",
       "      <td>1c336d2db796447194d2c0fa3fbd2ac3</td>\n",
       "      <td>0.853161</td>\n",
       "      <td>0.928586</td>\n",
       "      <td>RF-tuned_parameters</td>\n",
       "    </tr>\n",
       "  </tbody>\n",
       "</table>\n",
       "</div>"
      ],
      "text/plain": [
       "                             run_id  metrics.Test_R2_score  \\\n",
       "0  fcb5b5c40ff9452f8504c26d1f6a1570               0.870711   \n",
       "1  1c336d2db796447194d2c0fa3fbd2ac3               0.853161   \n",
       "\n",
       "   metrics.Train_R2_score         tags.Regressor  \n",
       "0                0.982888  RF default parameters  \n",
       "1                0.928586    RF-tuned_parameters  "
      ]
     },
     "execution_count": 55,
     "metadata": {},
     "output_type": "execute_result"
    }
   ],
   "source": [
    "df_run_metrics = mlflow.search_runs(\n",
    "    [experiment.experiment_id], filter_string = 'metrics.Test_R2_score > 0.8', \n",
    "    order_by = ['metrics.Test_R2_score DESC'])\n",
    " \n",
    "df_run_metrics[[\n",
    "    'run_id', 'metrics.Test_R2_score', 'metrics.Train_R2_score', 'tags.Regressor']]"
   ]
  },
  {
   "cell_type": "markdown",
   "id": "3d96fb19",
   "metadata": {},
   "source": [
    "Autologging parameters and metrics can also be enabled using calling mlflow.autolog or mlflow.sklearn.autolog\n",
    "\n",
    "https://mlflow.org/docs/latest/tracking.html#automatic-logging. By going to the specific run page,It can be seen that all regression parameters , training set metrics,tags,artifacts(Model,estimator,metric info) are auto logged\n",
    "\n",
    "https://learn.microsoft.com/en-gb/azure/databricks/mlflow/databricks-autologging#customize-logging-behavior"
   ]
  },
  {
   "cell_type": "markdown",
   "id": "6ac77402",
   "metadata": {},
   "source": [
    "### Warning when this code is run\n",
    "\n",
    "- Does not matter since our data does not have missing values\n",
    "- Can be fixed by converting our int columns to float so we can deal with missing values (we will do that below)\n",
    "- Can also fix this by inferring the signature of the model with sample data that has missing values in the int column"
   ]
  },
  {
   "cell_type": "code",
   "execution_count": 56,
   "id": "191a5c41",
   "metadata": {},
   "outputs": [
    {
     "name": "stderr",
     "output_type": "stream",
     "text": [
      "2023/06/20 12:31:06 WARNING mlflow.utils.autologging_utils: MLflow autologging encountered a warning: \"/Users/vitthalsrinivasan/Desktop/iMovieLibrary/Skillsoft/MLOps/MLFlow/final_code/mlflow_venv/lib/python3.10/site-packages/mlflow/data/pandas_dataset.py:116: UserWarning: Hint: Inferred schema contains integer column(s). Integer columns in Python cannot represent missing values. If your input data contains missing values at inference time, it will be encoded as floats and will cause a schema enforcement error. The best way to avoid this problem is to infer the model schema based on a realistic data sample (training dataset) that includes missing values. Alternatively, you can declare integer columns as doubles (float64) whenever these columns may have missing values. See `Handling Integers With Missing Values <https://www.mlflow.org/docs/latest/models.html#handling-integers-with-missing-values>`_ for more details.\"\n",
      "2023/06/20 12:31:13 WARNING mlflow.utils.autologging_utils: MLflow autologging encountered a warning: \"/Users/vitthalsrinivasan/Desktop/iMovieLibrary/Skillsoft/MLOps/MLFlow/final_code/mlflow_venv/lib/python3.10/site-packages/mlflow/models/signature.py:144: UserWarning: Hint: Inferred schema contains integer column(s). Integer columns in Python cannot represent missing values. If your input data contains missing values at inference time, it will be encoded as floats and will cause a schema enforcement error. The best way to avoid this problem is to infer the model schema based on a realistic data sample (training dataset) that includes missing values. Alternatively, you can declare integer columns as doubles (float64) whenever these columns may have missing values. See `Handling Integers With Missing Values <https://www.mlflow.org/docs/latest/models.html#handling-integers-with-missing-values>`_ for more details.\"\n",
      "2023/06/20 12:31:14 WARNING mlflow.utils.autologging_utils: MLflow autologging encountered a warning: \"/Users/vitthalsrinivasan/Desktop/iMovieLibrary/Skillsoft/MLOps/MLFlow/final_code/mlflow_venv/lib/python3.10/site-packages/_distutils_hack/__init__.py:33: UserWarning: Setuptools is replacing distutils.\"\n",
      "2023/06/20 12:31:14 WARNING mlflow.utils.autologging_utils: MLflow autologging encountered a warning: \"/Users/vitthalsrinivasan/Desktop/iMovieLibrary/Skillsoft/MLOps/MLFlow/final_code/mlflow_venv/lib/python3.10/site-packages/mlflow/data/pandas_dataset.py:116: UserWarning: Hint: Inferred schema contains integer column(s). Integer columns in Python cannot represent missing values. If your input data contains missing values at inference time, it will be encoded as floats and will cause a schema enforcement error. The best way to avoid this problem is to infer the model schema based on a realistic data sample (training dataset) that includes missing values. Alternatively, you can declare integer columns as doubles (float64) whenever these columns may have missing values. See `Handling Integers With Missing Values <https://www.mlflow.org/docs/latest/models.html#handling-integers-with-missing-values>`_ for more details.\"\n"
     ]
    }
   ],
   "source": [
    "mlflow.sklearn.autolog()\n",
    "\n",
    "with mlflow.start_run(run_name = 'Random Forest Regression tuned params autologged') as rftal_run:\n",
    "\n",
    "    n_estimators = 200\n",
    "    max_depth = 10\n",
    "    min_samples_split = 5\n",
    "    min_samples_leaf = 2\n",
    "   \n",
    "    rf_model = RandomForestRegressor(\n",
    "        n_estimators = n_estimators, \n",
    "        max_depth = max_depth,\n",
    "        min_samples_split = min_samples_split, \n",
    "        min_samples_leaf = min_samples_leaf\n",
    "    )\n",
    "    \n",
    "    rf_model.fit(X_train, y_train)\n",
    "    y_pred = rf_model.predict(X_test)\n",
    "    \n",
    "    training_score = rf_model.score(X_train,y_train)\n",
    "    \n",
    "    # Test metrics - these will NOT be autologged (only training metrics will be autologged)\n",
    "    mean_abs_error = mean_absolute_error(y_test, y_pred)\n",
    "    root_mean_sq_error = mean_squared_error(y_test, y_pred, squared = False)\n",
    "    test_score = r2_score(y_test, y_pred)\n",
    "    \n",
    "    mlflow.set_tag('Regressor', 'RF tuned parameters with autolog')"
   ]
  },
  {
   "cell_type": "markdown",
   "id": "5e2f627b",
   "metadata": {},
   "source": [
    "### TODO Recording\n",
    "\n",
    "- Go to the UI - make sure you sort by the \"Created\" column in the descending order so the latest run is on top\n",
    "- Click on the run and show that everything has been logged by default\n",
    "- Open up each section and show\n",
    "\n",
    "##### Artifacts\n",
    "\n",
    "- Under Artifacts click on the model/ folder\n",
    "- Show that we now have a serialized version of the trained model as an artificact. This can now be registered with the model registry and deployed for predictions\n",
    "- Click on each file under the model/ folder and show\n",
    "\n",
    "Explanations for each file here: https://www.mlflow.org/docs/latest/models.html"
   ]
  },
  {
   "cell_type": "code",
   "execution_count": 58,
   "id": "01fe17ba",
   "metadata": {},
   "outputs": [
    {
     "name": "stdout",
     "output_type": "stream",
     "text": [
      "<class 'pandas.core.frame.DataFrame'>\n",
      "Int64Index: 21608 entries, 0 to 21612\n",
      "Data columns (total 15 columns):\n",
      " #   Column          Non-Null Count  Dtype  \n",
      "---  ------          --------------  -----  \n",
      " 0   price           21608 non-null  float64\n",
      " 1   bedrooms        21608 non-null  int64  \n",
      " 2   sqft_living     21608 non-null  int64  \n",
      " 3   sqft_lot        21608 non-null  int64  \n",
      " 4   floors          21608 non-null  float64\n",
      " 5   waterfront      21608 non-null  int64  \n",
      " 6   view            21608 non-null  int64  \n",
      " 7   condition       21608 non-null  int64  \n",
      " 8   grade           21608 non-null  int64  \n",
      " 9   sqft_basement   21608 non-null  int64  \n",
      " 10  lat             21608 non-null  float64\n",
      " 11  long            21608 non-null  float64\n",
      " 12  sqft_lot15      21608 non-null  int64  \n",
      " 13  age             21608 non-null  int64  \n",
      " 14  renovation_age  21608 non-null  int64  \n",
      "dtypes: float64(4), int64(11)\n",
      "memory usage: 3.1 MB\n"
     ]
    }
   ],
   "source": [
    "house_price_df.data.info()"
   ]
  },
  {
   "cell_type": "code",
   "execution_count": 59,
   "id": "9814619a",
   "metadata": {},
   "outputs": [
    {
     "data": {
      "text/plain": [
       "Index(['price', 'bedrooms', 'sqft_living', 'sqft_lot', 'floors', 'waterfront',\n",
       "       'view', 'condition', 'grade', 'sqft_basement', 'lat', 'long',\n",
       "       'sqft_lot15', 'age', 'renovation_age'],\n",
       "      dtype='object')"
      ]
     },
     "execution_count": 59,
     "metadata": {},
     "output_type": "execute_result"
    }
   ],
   "source": [
    "house_price_df.data.columns"
   ]
  },
  {
   "cell_type": "code",
   "execution_count": 67,
   "id": "604b0f38",
   "metadata": {},
   "outputs": [
    {
     "name": "stdout",
     "output_type": "stream",
     "text": [
      "<class 'pandas.core.frame.DataFrame'>\n",
      "Int64Index: 21608 entries, 0 to 21612\n",
      "Data columns (total 15 columns):\n",
      " #   Column          Non-Null Count  Dtype  \n",
      "---  ------          --------------  -----  \n",
      " 0   price           21608 non-null  float64\n",
      " 1   bedrooms        21608 non-null  float64\n",
      " 2   sqft_living     21608 non-null  float64\n",
      " 3   sqft_lot        21608 non-null  float64\n",
      " 4   floors          21608 non-null  float64\n",
      " 5   waterfront      21608 non-null  float64\n",
      " 6   view            21608 non-null  float64\n",
      " 7   condition       21608 non-null  float64\n",
      " 8   grade           21608 non-null  float64\n",
      " 9   sqft_basement   21608 non-null  float64\n",
      " 10  lat             21608 non-null  float64\n",
      " 11  long            21608 non-null  float64\n",
      " 12  sqft_lot15      21608 non-null  float64\n",
      " 13  age             21608 non-null  float64\n",
      " 14  renovation_age  21608 non-null  float64\n",
      "dtypes: float64(15)\n",
      "memory usage: 3.1 MB\n"
     ]
    }
   ],
   "source": [
    "int_columns = [\n",
    "    'bedrooms', 'sqft_living', 'sqft_lot', 'waterfront',\n",
    "    'view', 'condition', 'grade', 'sqft_basement', 'lat', 'long',\n",
    "    'sqft_lot15', 'age', 'renovation_age'\n",
    "]\n",
    "\n",
    "for col in int_columns:\n",
    "    house_price_df.data[col] = house_price_df.data[col].astype(float)\n",
    "\n",
    "house_price_df.data.info()"
   ]
  },
  {
   "cell_type": "markdown",
   "id": "b64cdcd4",
   "metadata": {},
   "source": [
    "To log post training metrics, Autologging must be enabled before scikit-learn metric APIs are imported from sklearn.metrics. Metric APIs imported before autologging is enabled do not log metrics to MLflow runs.\n",
    "\n",
    "Note that the warning has disappeared since we treat all numeric columns as floats"
   ]
  },
  {
   "cell_type": "code",
   "execution_count": 69,
   "id": "6b9876de",
   "metadata": {},
   "outputs": [],
   "source": [
    "mlflow.sklearn.autolog()\n",
    "\n",
    "from sklearn.metrics import mean_absolute_error, mean_squared_error, r2_score\n",
    "\n",
    "with mlflow.start_run(run_name = 'Random Forest Regression tuned params and metrics autologged'):\n",
    "\n",
    "    # Training and test data with integers converted to floats\n",
    "    X = house_price_df.data.drop(columns = ['price'])\n",
    "    y = house_price_df.data['price']\n",
    "    \n",
    "    X_train, X_test, y_train, y_test = \\\n",
    "        train_test_split(X , y, test_size = 0.3, random_state = 123)\n",
    "\n",
    "    n_estimators = 200\n",
    "    max_depth = 10\n",
    "    min_samples_split = 5\n",
    "    min_samples_leaf = 2\n",
    "   \n",
    "    rf_model = RandomForestRegressor(\n",
    "        n_estimators = n_estimators, \n",
    "        max_depth = max_depth,\n",
    "        min_samples_split = min_samples_split, \n",
    "        min_samples_leaf = min_samples_leaf\n",
    "    )\n",
    "    \n",
    "    rf_model.fit(X_train, y_train)\n",
    "    y_pred = rf_model.predict(X_test)\n",
    "    \n",
    "    mean_abs_error = mean_absolute_error(y_test, y_pred)\n",
    "    root_mean_sq_error = mean_squared_error(y_test, y_pred, squared = False)\n",
    "    test_score = r2_score(y_test, y_pred)\n",
    "    \n",
    "    mlflow.set_tag('Regressor', 'RF tuned parameters and autologged metrics')"
   ]
  },
  {
   "cell_type": "markdown",
   "id": "af39ceb5",
   "metadata": {},
   "source": [
    "### TODO Recording\n",
    "\n",
    "- Go to the UI and show the run\n",
    "- Click through to the run and open up the \"Metrics\" section and show that the test metrics that we computed were autologged"
   ]
  },
  {
   "cell_type": "markdown",
   "id": "7345a8bf",
   "metadata": {},
   "source": [
    "### TODO Recording comparing runs\n",
    "\n",
    "#### Linear regression runs\n",
    "- In the MLflow UI\n",
    "- Click on the experiment and show all the runs\n",
    "- Select Multiple Linear Regression and Polynomial Regression and click on Compare\n",
    "- In the Parallel Coordinates chart choose \n",
    "- ---- Parameters - degree of polynomial, Metrics - Test R2 score\n",
    "- ---- Add another metric - Train R2 score\n",
    "\n",
    "- Scroll and show the other differences between the runs\n",
    "- Click on \"diff only\"\n",
    "\n",
    "\n",
    "#### Random forest runs\n",
    "\n",
    "- Go to experiment and see all runs\n",
    "- Select Default RF and Tuned RF and click on Compare\n",
    "- In the Parallel Coordinates chart choose \n",
    "- ---- Parameters - n_estimators, max_dept, \n",
    "- ----- Metrics - Test R2 score, Train R2 score\n",
    "- Click on Scatter Plot\n",
    "- ----- Choose n_estimators on X-axis\n",
    "- ----- Choose Test_MAE on Y-axis\n",
    "\n",
    "- Scroll and show the other differences"
   ]
  },
  {
   "cell_type": "code",
   "execution_count": null,
   "id": "bbc0caa7",
   "metadata": {},
   "outputs": [],
   "source": []
  }
 ],
 "metadata": {
  "kernelspec": {
   "display_name": "mlflow",
   "language": "python",
   "name": "mlflow"
  },
  "language_info": {
   "codemirror_mode": {
    "name": "ipython",
    "version": 3
   },
   "file_extension": ".py",
   "mimetype": "text/x-python",
   "name": "python",
   "nbconvert_exporter": "python",
   "pygments_lexer": "ipython3",
   "version": "3.10.9"
  }
 },
 "nbformat": 4,
 "nbformat_minor": 5
}
